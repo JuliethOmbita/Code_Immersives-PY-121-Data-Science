{
  "cells": [
    {
      "cell_type": "markdown",
      "source": [
        "<a href=\"https://codeimmersives.com\"><img src = \"https://www.codeimmersives.com/wp-content/uploads/2019/09/CodeImmersives_Logo_RGB_NYC_BW.png\" width = 400> </a>\n",
        "\n",
        "\n",
        "<h1 align=center><font size = 5>Agenda</font></h1>"
      ],
      "metadata": {
        "id": "fC38DqEk36bJ"
      }
    },
    {
      "cell_type": "markdown",
      "source": [
        "### \n",
        "<div class=\"alert alert-block alert-info\" style=\"margin-top: 20px\">\n",
        "\n",
        "1.  [Review](#0)<br>\n",
        "2.  [Covariance](#2)<br> \n",
        "3.  [Correlation](#4)<br>        \n",
        "4.  [Exercise 1](#12)<br> \n",
        "5.  [Exercise 2](#14)<br>\n",
        "6.  [Exercise 3](#16)<br>    \n",
        "</div>\n",
        "<hr>"
      ],
      "metadata": {
        "id": "nx_NlfsX36bL"
      }
    },
    {
      "cell_type": "markdown",
      "source": [
        "<h2>Exercise</h2>\n",
        "You have the following list:<br>\n",
        "<code>\n",
        "product_numbers = ['AS-500','TR-700','TR-800','TR-100','AX-131','AX-232','AL-3400','TR-300']\n",
        "</code><br>\n",
        "You need to process the product_numbers as a batch process but all of the<br>\n",
        "processes that start with 'TR' need to be run first.  Arrange the list so that<br>\n",
        "they are in the beginning of the list.<br>"
      ],
      "metadata": {
        "id": "53NLQJL636bL"
      }
    },
    {
      "cell_type": "markdown",
      "source": [
        "<h4>Solution</h4>"
      ],
      "metadata": {
        "id": "I-QCXST436bL"
      }
    },
    {
      "cell_type": "code",
      "execution_count": 6,
      "source": [
        "product_numbers = ['AS-500','TR-700','TR-800','TR-100','AX-131','AX-232','AL-3400','TR-300']\n",
        "product_numbers2 = ['AS-500','TR-700','TR-800','TR-100','AX-131','AX-232','AL-3400','TR-300']\n",
        "\n",
        "[prod for prod in product_numbers2 if prod.startswith('TR')]"
      ],
      "outputs": [
        {
          "output_type": "execute_result",
          "data": {
            "text/plain": [
              "['TR-700', 'TR-800', 'TR-100', 'TR-300']"
            ]
          },
          "metadata": {},
          "execution_count": 6
        }
      ],
      "metadata": {}
    },
    {
      "cell_type": "markdown",
      "source": [
        "<h2>Exercise</h2>\n",
        "You have the following data structure:<br>\n",
        "<code>\n",
        "processes = [{'command':'docker build -t python101:1.0'},\n",
        "             'Reboot server',\n",
        "             'Data cleaning',\n",
        "             {'command': 'git stash','server':'mid west'}]\n",
        "</code><br>\n",
        "How do you execute the process that contains the command - 'git stash' first?<br>"
      ],
      "metadata": {
        "id": "j-bGkMOA36bN"
      }
    },
    {
      "cell_type": "markdown",
      "source": [
        "<h4>Solution</h4>"
      ],
      "metadata": {
        "id": "y83a8l4S36bN"
      }
    },
    {
      "cell_type": "code",
      "execution_count": 5,
      "source": [
        "processes = [{'command':'docker build -t python101:1.0'},\n",
        "             'Reboot server',\n",
        "             'Data cleaning',\n",
        "             {'command': 'git stash','server':'mid west'}]\n",
        "print (processes[3]['command'])"
      ],
      "outputs": [
        {
          "output_type": "stream",
          "name": "stdout",
          "text": [
            "git stash\n"
          ]
        }
      ],
      "metadata": {
        "id": "Dd2c2fHJ36bN"
      }
    },
    {
      "cell_type": "markdown",
      "source": [
        "<h2>Covariance</h2>\n",
        "Covariance is the measure of the directional relationship between two random variables<br><br>\n",
        "$\\sum_{i=1}^{n} (X_i - meanX)(Y_i - meanY)$/(n-1)<br><br>\n",
        "Where X is the first list of data and Y is the second list."
      ],
      "metadata": {
        "id": "aO9ySyV736bN"
      }
    },
    {
      "cell_type": "markdown",
      "source": [
        "For example.  If we measured the temperate on 7 consecutive summer days and<br>\n",
        "also measure ice_cream_sales for the same 7 consecutive days.  The covariance will<br>\n",
        "measure the direction of the relationship between the 2 lists.<br>\n",
        "<code>\n",
        "temperatures = [89, 93, 77, 79, 93, 95, 94]\n",
        "icecream_sales = [20000, 25000, 16000, 18000, 21000, 24000, 23000]\n",
        "</code>"
      ],
      "metadata": {
        "id": "KcgbmO0M36bO"
      }
    },
    {
      "cell_type": "markdown",
      "source": [
        "<h4>Solution</h4>"
      ],
      "metadata": {
        "id": "RS9CkBx036bO"
      }
    },
    {
      "cell_type": "code",
      "execution_count": 12,
      "source": [
        "temperatures = [89, 93, 77, 79, 93, 95, 94]\n",
        "icecream_sales = [20000, 25000, 16000, 18000, 21000, 24000, 23000]\n",
        "\n",
        "def calc_covar(lst, lst2):\n",
        "    avg = sum(lst)/len(lst)\n",
        "    avg2 = sum(lst2)/len(lst2)\n",
        "    xi = [x - avg for x in lst]\n",
        "    yi = [y - avg2 for y in lst2]\n",
        "    print (xi, yi)\n",
        "    multi = [yi[i]*xi[i] for i in range(len(xi))]\n",
        "    x_sum = sum(multi)\n",
        "    res = x_sum/(len(lst)-1)\n",
        "    return round(res,2)\n",
        "\n",
        "calc_covar(temperatures, icecream_sales)"
      ],
      "outputs": [
        {
          "output_type": "stream",
          "name": "stdout",
          "text": [
            "[0.4285714285714306, 4.428571428571431, -11.57142857142857, -9.57142857142857, 4.428571428571431, 6.428571428571431, 5.428571428571431] [-1000.0, 4000.0, -5000.0, -3000.0, 0.0, 3000.0, 2000.0]\n"
          ]
        },
        {
          "output_type": "execute_result",
          "data": {
            "text/plain": [
              "22333.33"
            ]
          },
          "metadata": {},
          "execution_count": 12
        }
      ],
      "metadata": {
        "id": "OsJoa-IZ36bO"
      }
    },
    {
      "cell_type": "markdown",
      "source": [
        "<h2>Object Oriented Programming</h2>"
      ],
      "metadata": {
        "id": "X3P2IbAg36bO"
      }
    },
    {
      "cell_type": "markdown",
      "source": [
        "<h4>Static Methods</h4>\n",
        "A static method is a method that is part of the class but does<br>\n",
        "not use the self reference and can be called outside of the class structure.<br>\n",
        "The decoratored method could be a regular function but due to its relationship<br>\n",
        "with the other methods it is included in the class."
      ],
      "metadata": {
        "id": "GUtdl6bi36bO"
      }
    },
    {
      "cell_type": "markdown",
      "source": [
        "<h4>Class Methods</h4>\n",
        "Class methods don't need a class instance. They can't access the instance ( self ) but they <br>\n",
        "have access to the class itself via cls "
      ],
      "metadata": {
        "id": "e9kYl57836bP"
      }
    },
    {
      "cell_type": "code",
      "execution_count": null,
      "source": [],
      "outputs": [],
      "metadata": {
        "id": "58-w7eZn36bP"
      }
    },
    {
      "cell_type": "markdown",
      "source": [
        "<h2>Exercise</h2>\n",
        "Create a class called Geometry.  The class should include the following:<br>\n",
        "1 - constructor that takes up to 3 arguments for shape type, side 1, side 2, side 3<br>\n",
        "2 - static method for calc_perimeter<br>\n",
        "3 - static method for calc_area<br>\n",
        "4 - The shape types are: C for Circle, T for Triangle, R for Rectangle<br>\n"
      ],
      "metadata": {
        "id": "YTQBUbvP36bP"
      }
    },
    {
      "cell_type": "code",
      "execution_count": 23,
      "source": [
        "import math\n",
        "class Geometry(): # class definition\n",
        "    def __init__(self,shape, side_1, side_2, side_3, radious): #main initialization function\n",
        "        self.shape = shape\n",
        "        self.side_1 = side_1  # variable initialization\n",
        "        self.side_2 = side_2\n",
        "        self.side_3 = side_3\n",
        "        self.radious = radious\n",
        "\n",
        "    def calc_perimeter(self):\n",
        "        if self.shape == 'C': #Circle\n",
        "            perim = 2*(math.pi)*self.radious \n",
        "        elif self.shape == 'R': #Rectangle\n",
        "            perim = 2*self.side_1 + 2*self.side_2 \n",
        "        elif self.shape == 'T': #Triangle\n",
        "            perim = self.side_1 + self.side_2 + self.side_3\n",
        "        else: #Squeare\n",
        "            perim = 4*self.side_1\n",
        "        return perim\n",
        "\n",
        "    def calc_area(self):\n",
        "        if self.shape == 'C': #Circle\n",
        "            area = (math.pi)*(self.radious **2)\n",
        "        elif self.shape == 'R': #Rectangle\n",
        "            area = self.side_1*self.side_2 \n",
        "        elif self.shape == 'T': #Triangle\n",
        "            area = (1/2)*self.side_1 + self.side_3\n",
        "        else: #Squeare\n",
        "            area = self.side_1**2\n",
        "        return area        \n",
        "        # pass\n",
        "\n",
        "\n",
        "side_1, side_2, side_3 = 0, 0, 0 \n",
        "\n",
        "Geo = Geometry('R', side_1, side_2, side_3, 0) #object instantiaction\n",
        "print (Geo.calc_perimeter()) #class method calls\n",
        "print (Geo.calc_area()) # calss method calls"
      ],
      "outputs": [
        {
          "output_type": "stream",
          "name": "stdout",
          "text": [
            "0\n",
            "0\n"
          ]
        }
      ],
      "metadata": {
        "id": "hthpjYFa36bP"
      }
    },
    {
      "cell_type": "markdown",
      "source": [
        "<h2>Correlation</h2>\n",
        "The correlation is a measure of the direction of the relation of 2 lists and the<br>\n",
        "strength of the relation.  The correlation can only be a number from -1 to 1.  A positive<br>\n",
        "correlation of .7 or more is significant and signals that there is a strong relationship<br>\n",
        "between the 2 data sets. When there is a rise in one of the numbers in the list there is also <br>\n",
        "a rise in the value of the corresponding index value.  A negative correlation of -.07 to 1 means<br>\n",
        "that there is an inverse relationship between the 2 lists.  When one of the values in 1st list<br>\n",
        "goes up, the value in the other list will go down.<br>\n",
        "The formula for correlation is:<br>\n",
        "<br>\n",
        "$ covariance/(S_x* S_y)$<br><br>\n",
        "Where S is the standard deviation of each data set"
      ],
      "metadata": {
        "id": "zsPPs0mg36bP"
      }
    },
    {
      "cell_type": "markdown",
      "source": [
        "<h2>Exercise</h2>\n",
        "Find the correlation of the following data sets:<br>\n",
        "<code>\n",
        "temperatures = [89, 93, 77, 79, 93, 95, 94]\n",
        "icecream_sales = [20000, 25000, 16000, 18000, 21000, 24000, 23000]\n",
        "</code>"
      ],
      "metadata": {
        "id": "SX7F1IvE36bP"
      }
    },
    {
      "cell_type": "markdown",
      "source": [
        "<h4>Solution</h4>"
      ],
      "metadata": {
        "id": "eAVJHiS136bQ"
      }
    },
    {
      "cell_type": "code",
      "execution_count": 24,
      "source": [
        "import statistics\n",
        "\n",
        "temperatures = [89, 93, 77, 79, 93, 95, 94]\n",
        "icecream_sales = [20000, 25000, 16000, 18000, 21000, 24000, 23000]\n",
        "\n",
        "def cal_correlation(lst1, lst2):\n",
        "    return calc_covar(lst1, lst2)/(statistics.stdev(lst1)*statistics.stdev(lst2))\n",
        "    \n",
        "cal_correlation(temperatures, icecream_sales)"
      ],
      "outputs": [
        {
          "output_type": "stream",
          "name": "stdout",
          "text": [
            "[0.4285714285714306, 4.428571428571431, -11.57142857142857, -9.57142857142857, 4.428571428571431, 6.428571428571431, 5.428571428571431] [-1000.0, 4000.0, -5000.0, -3000.0, 0.0, 3000.0, 2000.0]\n"
          ]
        },
        {
          "output_type": "execute_result",
          "data": {
            "text/plain": [
              "0.914176041929735"
            ]
          },
          "metadata": {},
          "execution_count": 24
        }
      ],
      "metadata": {
        "id": "1AZkJTQ136bQ"
      }
    },
    {
      "cell_type": "markdown",
      "source": [
        "<h2>Exercise</h2>\n",
        "We have the following class called 'Deck_of_Cards'<br>\n",
        "<code>\n",
        "class Deck_of_Cards:\n",
        "    def __init__(self):\n",
        "        self.cards = self.create_deck()\n",
        "        \n",
        "    def create_deck(self):\n",
        "        face_cards = ['Jack','Queen','King','Ace']\n",
        "        non_face_cards = list(range(2,11))\n",
        "        suit = ['Spades','Clubs','Hearts','Diamonds']\n",
        "        cards = [f'{card} of {s}' for card in non_face_cards + face_cards for s in suit]\n",
        "        return cards\n",
        "\n",
        "    def __str__(self):\n",
        "        return f'There are {self.number_of_cards} cards in the deck'\n",
        "    \n",
        "new_deal = Deck_of_Cards()\n",
        "print(new_deal.cards)\n",
        "</code>\n",
        "<br>\n",
        "Create the following methods:<br>\n",
        "1 - 'shuffle' to reorder the cards<br>\n",
        "2 - 'cut' which takes in an interger or defaults to zero which is called a tap and no<br>\n",
        "reorder is done.<br>\n",
        "3 - 'deal' which takes in 1 arguments the number of cards and removes them from the deck<br>\n",
        "\n"
      ],
      "metadata": {
        "id": "Xt_EP_Zd36bQ"
      }
    },
    {
      "cell_type": "code",
      "execution_count": 82,
      "source": [
        "class Deck_of_Cards:\n",
        "    def __init__(self):\n",
        "        self.cards = self.create_deck()\n",
        "        \n",
        "    def create_deck(self):\n",
        "        face_cards = ['Jack','Queen','King','Ace']\n",
        "        non_face_cards = list(range(2,11))\n",
        "        suit = ['Spades','Clubs','Hearts','Diamonds']\n",
        "        cards = [f'{card} of {s}' for card in non_face_cards + face_cards for s in suit]\n",
        "        # print (len(cards))\n",
        "        return cards\n",
        "\n",
        "    def __str__(self):\n",
        "        return f'There are {self.number_of_cards} cards in the deck'\n",
        "        \n",
        "    def shuffle(self):\n",
        "        random.shuffle(self.cards)\n",
        "        return self.cards\n",
        "\n",
        "    def deal(self, number):\n",
        "        deal_cards = self.cards\n",
        "        cards_deal = deal_cards[0:number]\n",
        "        del deal_cards[0:number]\n",
        "        return cards_deal, deal_cards\n",
        "    \n",
        "    def cut (self, number):\n",
        "        new_deck = self.cards\n",
        "        if number != 0 and number < len (new_deck):\n",
        "            part_cut = new_deck[0:number]\n",
        "            cut_deck = new_deck[number:len(new_deck)]\n",
        "            cut_deck.extend(part_cut)\n",
        "            return (cut_deck)\n",
        "        print('You tapped the cards')\n",
        "\n",
        "new_deal = Deck_of_Cards()\n",
        "print(new_deal.cards)\n",
        "# print (new_deal.shuffle(),len(new_deal.shuffle()))\n",
        "\n",
        "new_deal.shuffle()\n",
        "new_deal.deal(4)\n",
        "new_deal.cut(4)\n"
      ],
      "outputs": [
        {
          "output_type": "stream",
          "name": "stdout",
          "text": [
            "['2 of Spades', '2 of Clubs', '2 of Hearts', '2 of Diamonds', '3 of Spades', '3 of Clubs', '3 of Hearts', '3 of Diamonds', '4 of Spades', '4 of Clubs', '4 of Hearts', '4 of Diamonds', '5 of Spades', '5 of Clubs', '5 of Hearts', '5 of Diamonds', '6 of Spades', '6 of Clubs', '6 of Hearts', '6 of Diamonds', '7 of Spades', '7 of Clubs', '7 of Hearts', '7 of Diamonds', '8 of Spades', '8 of Clubs', '8 of Hearts', '8 of Diamonds', '9 of Spades', '9 of Clubs', '9 of Hearts', '9 of Diamonds', '10 of Spades', '10 of Clubs', '10 of Hearts', '10 of Diamonds', 'Jack of Spades', 'Jack of Clubs', 'Jack of Hearts', 'Jack of Diamonds', 'Queen of Spades', 'Queen of Clubs', 'Queen of Hearts', 'Queen of Diamonds', 'King of Spades', 'King of Clubs', 'King of Hearts', 'King of Diamonds', 'Ace of Spades', 'Ace of Clubs', 'Ace of Hearts', 'Ace of Diamonds']\n"
          ]
        },
        {
          "output_type": "execute_result",
          "data": {
            "text/plain": [
              "['3 of Spades',\n",
              " '3 of Clubs',\n",
              " '3 of Hearts',\n",
              " '3 of Diamonds',\n",
              " '4 of Spades',\n",
              " '4 of Clubs',\n",
              " '4 of Hearts',\n",
              " '4 of Diamonds',\n",
              " '5 of Spades',\n",
              " '5 of Clubs',\n",
              " '5 of Hearts',\n",
              " '5 of Diamonds',\n",
              " '6 of Spades',\n",
              " '6 of Clubs',\n",
              " '6 of Hearts',\n",
              " '6 of Diamonds',\n",
              " '7 of Spades',\n",
              " '7 of Clubs',\n",
              " '7 of Hearts',\n",
              " '7 of Diamonds',\n",
              " '8 of Spades',\n",
              " '8 of Clubs',\n",
              " '8 of Hearts',\n",
              " '8 of Diamonds',\n",
              " '9 of Spades',\n",
              " '9 of Clubs',\n",
              " '9 of Hearts',\n",
              " '9 of Diamonds',\n",
              " '10 of Spades',\n",
              " '10 of Clubs',\n",
              " '10 of Hearts',\n",
              " '10 of Diamonds',\n",
              " 'Jack of Spades',\n",
              " 'Jack of Clubs',\n",
              " 'Jack of Hearts',\n",
              " 'Jack of Diamonds',\n",
              " 'Queen of Spades',\n",
              " 'Queen of Clubs',\n",
              " 'Queen of Hearts',\n",
              " 'Queen of Diamonds',\n",
              " 'King of Spades',\n",
              " 'King of Clubs',\n",
              " 'King of Hearts',\n",
              " 'King of Diamonds',\n",
              " 'Ace of Spades',\n",
              " 'Ace of Clubs',\n",
              " 'Ace of Hearts',\n",
              " 'Ace of Diamonds',\n",
              " '2 of Spades',\n",
              " '2 of Clubs',\n",
              " '2 of Hearts',\n",
              " '2 of Diamonds']"
            ]
          },
          "metadata": {},
          "execution_count": 82
        }
      ],
      "metadata": {}
    },
    {
      "cell_type": "code",
      "execution_count": 68,
      "source": [
        "import random\n",
        "class Deck_of_Cards:\n",
        "    def __init__(self):\n",
        "        self.create_deck()\n",
        "        \n",
        "    def create_deck(self):\n",
        "        cards = []\n",
        "        face_cards = ['Jack','Queen','King','Ace']\n",
        "        non_face_cards = list(range(2,11))\n",
        "        suit = ['Spades','Clubs','Hearts','Diamonds']\n",
        "        cards = [f'{card} of {s}' for card in non_face_cards + face_cards for s in suit]\n",
        "        return cards\n",
        "\n",
        "    def __str__(self):\n",
        "        return f'There are {self.number_of_cards} cards in the deck'\n",
        "\n",
        "    # def shuffle(self):\n",
        "    #     random.shuffle(self.cards)\n",
        "    #     return self.cards\n",
        "    # def cut(lst, number):\n",
        "    #     # print (lst)\n",
        "    #     # print (lst[:number])\n",
        "    #     # print (lst[number::])\n",
        "    #     return lst[0:number], lst[number::] = lst[number::], lst[0:number]\n",
        "\n",
        "    # def deal(self, number):\n",
        "    #     # return 3\n",
        "    #     cards_deal = self.cards[0:number]\n",
        "    #     del self.cards[0:number]\n",
        "    #     return cards_deal, self.cards\n",
        "    \n",
        "\n",
        "new_deal = Deck_of_Cards()\n",
        "print(new_deal)\n",
        "new_deal.deal(4)"
      ],
      "outputs": [
        {
          "output_type": "error",
          "ename": "AttributeError",
          "evalue": "'Deck_of_Cards' object has no attribute 'number_of_cards'",
          "traceback": [
            "\u001b[0;31m---------------------------------------------------------------------------\u001b[0m",
            "\u001b[0;31mAttributeError\u001b[0m                            Traceback (most recent call last)",
            "Input \u001b[0;32mIn [68]\u001b[0m, in \u001b[0;36m<module>\u001b[0;34m\u001b[0m\n\u001b[1;32m     17\u001b[0m     \u001b[38;5;66;03m# def shuffle(self):\u001b[39;00m\n\u001b[1;32m     18\u001b[0m     \u001b[38;5;66;03m#     random.shuffle(self.cards)\u001b[39;00m\n\u001b[1;32m     19\u001b[0m     \u001b[38;5;66;03m#     return self.cards\u001b[39;00m\n\u001b[0;32m   (...)\u001b[0m\n\u001b[1;32m     29\u001b[0m     \u001b[38;5;66;03m#     del self.cards[0:number]\u001b[39;00m\n\u001b[1;32m     30\u001b[0m     \u001b[38;5;66;03m#     return cards_deal, self.cards\u001b[39;00m\n\u001b[1;32m     33\u001b[0m new_deal \u001b[38;5;241m=\u001b[39m Deck_of_Cards()\n\u001b[0;32m---> 34\u001b[0m \u001b[38;5;28;43mprint\u001b[39;49m\u001b[43m(\u001b[49m\u001b[43mnew_deal\u001b[49m\u001b[43m)\u001b[49m\n\u001b[1;32m     35\u001b[0m new_deal\u001b[38;5;241m.\u001b[39mdeal(\u001b[38;5;241m4\u001b[39m)\n",
            "Input \u001b[0;32mIn [68]\u001b[0m, in \u001b[0;36mDeck_of_Cards.__str__\u001b[0;34m(self)\u001b[0m\n\u001b[1;32m     14\u001b[0m \u001b[38;5;28;01mdef\u001b[39;00m \u001b[38;5;21m__str__\u001b[39m(\u001b[38;5;28mself\u001b[39m):\n\u001b[0;32m---> 15\u001b[0m     \u001b[38;5;28;01mreturn\u001b[39;00m \u001b[38;5;124mf\u001b[39m\u001b[38;5;124m'\u001b[39m\u001b[38;5;124mThere are \u001b[39m\u001b[38;5;132;01m{\u001b[39;00m\u001b[38;5;28mself\u001b[39m\u001b[38;5;241m.\u001b[39mnumber_of_cards\u001b[38;5;132;01m}\u001b[39;00m\u001b[38;5;124m cards in the deck\u001b[39m\u001b[38;5;124m'\u001b[39m\n",
            "\u001b[0;31mAttributeError\u001b[0m: 'Deck_of_Cards' object has no attribute 'number_of_cards'"
          ]
        }
      ],
      "metadata": {
        "id": "SaXYBAzd36bQ"
      }
    },
    {
      "cell_type": "code",
      "execution_count": null,
      "source": [
        "\n",
        "# list_cards = new_deal.cards\n",
        "# print (list_cards)\n",
        "# def shuffle(lst):\n",
        "#     random.shuffle(lst)\n",
        "#     return lst\n",
        "\n",
        "# def cut(lst, number):\n",
        "#     # print (lst)\n",
        "#     # print (lst[:number])\n",
        "#     # print (lst[number::])\n",
        "#     lst[0:number], lst[number::] = lst[number::], lst[0:number]\n",
        "#     # lst[::number], lst[number::] = lst[number::], lst[::number]\n",
        "#     # print ('dkkdld')\n",
        "#     # print (lst)\n",
        "\n",
        "#     # return lst\n",
        "\n",
        "# def deal(lst, number):\n",
        "#     del lst[:number]\n",
        "#     return lst\n",
        "\n",
        "\n",
        "# cut(list_cards, 2)\n",
        "\n",
        "\n"
      ],
      "outputs": [],
      "metadata": {}
    },
    {
      "cell_type": "markdown",
      "source": [
        "<h2>Exercise</h2>\n",
        "Without using the built in max function in python, find the maximum value<br>\n",
        "in the following sequence:<br>\n",
        "<code>\n",
        "x = [1,2,0,5,1,4,-1,2]\n",
        "</code>"
      ],
      "metadata": {
        "id": "-dDHu2k836bR"
      }
    },
    {
      "cell_type": "markdown",
      "source": [
        "<h4>Solution</h4>"
      ],
      "metadata": {
        "id": "VCLHI4nG36bR"
      }
    },
    {
      "cell_type": "code",
      "execution_count": 89,
      "source": [
        "x = [1,2,0,5,1,4,-1,2]\n",
        "max_value = x[0]\n",
        "for i in x:\n",
        "    if (i>max_value):\n",
        "        max_value = i\n",
        "print (max_value)\n",
        "\n",
        "# max_value = x[0]\n",
        "# for i in x:\n",
        "#     if (i > max_value):\n",
        "#         max_value = x"
      ],
      "outputs": [
        {
          "output_type": "stream",
          "name": "stdout",
          "text": [
            "5\n"
          ]
        }
      ],
      "metadata": {
        "id": "9PF7Uce436bR"
      }
    },
    {
      "cell_type": "markdown",
      "source": [
        "This notebook is part of a course at www.codeimmersives.com called Data Science. If you accessed this notebook outside the course, you can get more information about this course online by clicking here."
      ],
      "metadata": {
        "id": "8tBC-Fi936bR"
      }
    },
    {
      "cell_type": "markdown",
      "source": [
        "<hr>\n",
        "\n",
        "Copyright &copy; 2021  Code Immersives"
      ],
      "metadata": {
        "id": "ATYIk37-36bS"
      }
    }
  ],
  "metadata": {
    "kernelspec": {
      "name": "python3",
      "display_name": "Python 3.9.7 64-bit ('venv': venv)"
    },
    "language_info": {
      "codemirror_mode": {
        "name": "ipython",
        "version": 3
      },
      "file_extension": ".py",
      "mimetype": "text/x-python",
      "name": "python",
      "nbconvert_exporter": "python",
      "pygments_lexer": "ipython3",
      "version": "3.9.7"
    },
    "colab": {
      "name": "CI Data Science - Lesson 04 - NO ANSWER.ipynb",
      "provenance": []
    },
    "interpreter": {
      "hash": "2b6a48a62f97ea2220556cc5b2fce2dfbb06f7ab5e77c2f5871a237e1217bc60"
    }
  },
  "nbformat": 4,
  "nbformat_minor": 2
}