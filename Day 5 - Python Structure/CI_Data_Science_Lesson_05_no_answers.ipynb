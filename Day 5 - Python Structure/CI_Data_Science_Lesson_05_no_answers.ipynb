{
  "cells": [
    {
      "cell_type": "markdown",
      "source": [
        "<h4>Object Oriented</h4>\n",
        "This type of coding relies creating objects which in turn have properties and atributes.<br>\n",
        "For example if we want to create a model of a zoo.<br>\n",
        "The zoo has certain charactristics.  It has the following attributes:<br>\n",
        "- Location<br>\n",
        "- Employees<br>\n",
        "- Animals<br>\n",
        "- Cages<br>\n",
        "\n",
        "The zoo can also implement certain behaviors<br>\n",
        "- Charge admission<br>\n",
        "- Open<br>\n",
        "- Close<br>\n",
        "- Purchase animals<br>\n",
        "- Display animals<br>\n",
        "- Hire employees<br>\n",
        "- Fire employees<br>\n",
        "- Borrow animals<br>\n",
        "- Loan animals<br>\n",
        "- Feed animals<br>\n",
        "- Sell animals<br>\n",
        "<br>\n",
        "In Object Oriented Programming (OOP) the behaviors are methods and the charateristics or<br>\n",
        "attributes are variables (instance or class).<br>"
      ],
      "metadata": {
        "id": "cIsJUe-zPxhb"
      }
    },
    {
      "cell_type": "markdown",
      "source": [
        "<h2>Python implementation of OOP</h2>\n",
        "<h4>Base class</h4><br>\n",
        "1. Classes typically start with a capital letter<br>\n",
        "2. Classes can contain methods and attributes<br>\n",
        "<br>\n",
        "We can create a simple class with no attributes<br>\n",
        "<code>\n",
        "class Fruit:\n",
        "    pass\n",
        "print(Fruit)\n",
        "print(type(Fruit))\n",
        "</code>"
      ],
      "metadata": {
        "id": "j5RYDLzXPxhc"
      }
    },
    {
      "cell_type": "code",
      "execution_count": 2,
      "source": [
        "class Fruit:\n",
        "    pass\n",
        "print(Fruit)\n",
        "print(type(Fruit))"
      ],
      "outputs": [
        {
          "output_type": "stream",
          "name": "stdout",
          "text": [
            "<class '__main__.Fruit'>\n",
            "<class 'type'>\n"
          ]
        }
      ],
      "metadata": {
        "id": "u3UHFNXTPxhc"
      }
    },
    {
      "cell_type": "code",
      "execution_count": 3,
      "source": [
        "# Examine the attributes of the object\n",
        "print(dir(Fruit()))"
      ],
      "outputs": [
        {
          "output_type": "stream",
          "name": "stdout",
          "text": [
            "['__class__', '__delattr__', '__dict__', '__dir__', '__doc__', '__eq__', '__format__', '__ge__', '__getattribute__', '__gt__', '__hash__', '__init__', '__init_subclass__', '__le__', '__lt__', '__module__', '__ne__', '__new__', '__reduce__', '__reduce_ex__', '__repr__', '__setattr__', '__sizeof__', '__str__', '__subclasshook__', '__weakref__']\n"
          ]
        }
      ],
      "metadata": {
        "id": "5tvjB6AWPxhd"
      }
    },
    {
      "cell_type": "markdown",
      "source": [
        "<h2>Dunder methods</h2>\n",
        "Dunder or magic methods in Python are the methods having two prefix and suffix underscores in the method name. Dunder here means “Double Under (Underscores)”. Built in methods of a class. <br>\n",
        "<br>\n",
        "To list all of the methods of a class using list comprehension: <br>\n",
        "[x for x in dir(Fruit()) if x.startswith('__')]"
      ],
      "metadata": {
        "id": "4vztdHZuPxhd"
      }
    },
    {
      "cell_type": "code",
      "execution_count": 4,
      "source": [
        "[x for x in dir(Fruit()) if x.startswith('__')]"
      ],
      "outputs": [
        {
          "output_type": "execute_result",
          "data": {
            "text/plain": [
              "['__class__',\n",
              " '__delattr__',\n",
              " '__dict__',\n",
              " '__dir__',\n",
              " '__doc__',\n",
              " '__eq__',\n",
              " '__format__',\n",
              " '__ge__',\n",
              " '__getattribute__',\n",
              " '__gt__',\n",
              " '__hash__',\n",
              " '__init__',\n",
              " '__init_subclass__',\n",
              " '__le__',\n",
              " '__lt__',\n",
              " '__module__',\n",
              " '__ne__',\n",
              " '__new__',\n",
              " '__reduce__',\n",
              " '__reduce_ex__',\n",
              " '__repr__',\n",
              " '__setattr__',\n",
              " '__sizeof__',\n",
              " '__str__',\n",
              " '__subclasshook__',\n",
              " '__weakref__']"
            ]
          },
          "metadata": {},
          "execution_count": 4
        }
      ],
      "metadata": {
        "id": "sniU7RGMPxhd"
      }
    },
    {
      "cell_type": "code",
      "execution_count": 5,
      "source": [
        "class Fruit:\n",
        "    pass\n",
        "fruit1 = Fruit()\n",
        "fruit2 = Fruit()\n",
        "print(type(fruit1),type(fruit2))"
      ],
      "outputs": [
        {
          "output_type": "stream",
          "name": "stdout",
          "text": [
            "<class '__main__.Fruit'> <class '__main__.Fruit'>\n"
          ]
        }
      ],
      "metadata": {
        "id": "0vFDQdjZPxhe"
      }
    },
    {
      "cell_type": "markdown",
      "source": [
        "Are these objects the same or different?<br>\n",
        "We can investigate by using the id() function.<br>\n",
        "<code>\n",
        "class Fruit:\n",
        "    pass\n",
        "fruit1 = Fruit()\n",
        "fruit2 = Fruit()\n",
        "print(type(fruit1), type(fruit2))\n",
        "print(id(fruit1),id(fruit2))\n",
        "</code>\n",
        "<br>\n",
        "NOTE: The ids are different"
      ],
      "metadata": {
        "id": "YspAr07OPxhe"
      }
    },
    {
      "cell_type": "code",
      "execution_count": 6,
      "source": [
        "class Fruit:\n",
        "    pass\n",
        "fruit1 = Fruit()\n",
        "fruit2 = Fruit()\n",
        "print(type(fruit1), type(fruit2))\n",
        "print(id(fruit1),id(fruit2))"
      ],
      "outputs": [
        {
          "output_type": "stream",
          "name": "stdout",
          "text": [
            "<class '__main__.Fruit'> <class '__main__.Fruit'>\n",
            "140252027643072 140252027645664\n"
          ]
        }
      ],
      "metadata": {
        "id": "AxH8qelxPxhf"
      }
    },
    {
      "cell_type": "markdown",
      "source": [
        "<h2>Default inheritance</h2>\n",
        "By default every class inherits from object."
      ],
      "metadata": {
        "id": "BT-bqMppPxhf"
      }
    },
    {
      "cell_type": "code",
      "execution_count": 7,
      "source": [
        "class Fruit(object):\n",
        "    pass\n",
        "fruit1 = Fruit()\n",
        "print(fruit1)"
      ],
      "outputs": [
        {
          "output_type": "stream",
          "name": "stdout",
          "text": [
            "<__main__.Fruit object at 0x7f8f09733eb0>\n"
          ]
        }
      ],
      "metadata": {
        "id": "HsetqWutPxhg"
      }
    },
    {
      "cell_type": "markdown",
      "source": [
        "<h2>On the Fly Attribution</h2>\n",
        "You can assign an attribute on the fly using a dot operator<br>\n",
        "<code>\n",
        "class Fruit:\n",
        "    pass\n",
        "fruit1 = Fruit()   # instantiate the object\n",
        "fruit1.name = 'Orange'\n",
        "print(fruit1.name)\n",
        "</code>"
      ],
      "metadata": {
        "id": "DCRw_RfNPxhg"
      }
    },
    {
      "cell_type": "code",
      "execution_count": 8,
      "source": [
        "class Fruit:\n",
        "    pass\n",
        "fruit1 = Fruit()   # instantiate the object\n",
        "fruit2 = Fruit()   # instantiate the object\n",
        "fruit1.name = 'Orange'\n",
        "fruit1.taste = 'Sweet'\n",
        "print(fruit1.name)\n",
        "print(fruit1.taste)\n",
        "#print(fruit2.name)"
      ],
      "outputs": [
        {
          "output_type": "stream",
          "name": "stdout",
          "text": [
            "Orange\n",
            "Sweet\n"
          ]
        }
      ],
      "metadata": {
        "id": "Y0UlnC7iPxhg"
      }
    },
    {
      "cell_type": "code",
      "execution_count": null,
      "source": [
        "class Fruit:\n",
        "    ripe = True\n",
        "fruit1 = Fruit()   # instantiate the object\n",
        "fruit1.name = 'Orange'\n",
        "fruit1.ripe = True\n",
        "print(fruit1.name)\n",
        "print(f\"{fruit1.name} is {'RIPE' if fruit1.ripe else 'NOT RIPE'}\")\n",
        "fruit2 = Fruit()\n",
        "fruit2.name = 'Apple'\n",
        "print(fruit2.name)\n",
        "fruit2.ripe = False\n",
        "print(f\"{fruit2.name} is {'RIPE' if fruit2.ripe else 'NOT RIPE'}\")"
      ],
      "outputs": [
        {
          "output_type": "stream",
          "name": "stdout",
          "text": [
            "Orange\n",
            "Orange is RIPE\n",
            "Apple\n",
            "Apple is NOT RIPE\n"
          ]
        }
      ],
      "metadata": {
        "id": "hnC1GBr_Pxhh",
        "outputId": "1b43961f-158f-48e9-ca5e-b4bbdca70d5a"
      }
    },
    {
      "cell_type": "markdown",
      "source": [
        "<h2>Constructor Attribution</h2>\n",
        "<h4>We can assign a constructor that initializes attributes using the __init__ method</h4>\n",
        "Below we create the class Fruit and require that it is created with a name<br>\n",
        "<code>\n",
        "class Fruit:\n",
        "    def __init__(self,name): \n",
        "        '''Constructor'''\n",
        "        self.name = name\n",
        "        \n",
        "fruit1 = Fruit('Apple')\n",
        "</code>\n",
        "\n",
        "In its current form if you try to create a fruit object without a name it<br>\n",
        "will give you an error"
      ],
      "metadata": {
        "id": "PIWRlo9cPxhh"
      }
    },
    {
      "cell_type": "code",
      "execution_count": null,
      "source": [
        "class Fruit:\n",
        "    def __init__(self,name): \n",
        "        '''Constructor'''\n",
        "        self.name = name\n",
        "fruit1 = Fruit('Kiwi')\n",
        "print(fruit1.name)\n",
        "fruit2 = Fruit('Banana')\n",
        "print(fruit2.name)\n",
        "print(fruit2)"
      ],
      "outputs": [],
      "metadata": {
        "id": "aCs5J_PnPxhi"
      }
    },
    {
      "cell_type": "markdown",
      "source": [
        "Add a __str__(self) to output a default statement upon construction:"
      ],
      "metadata": {
        "id": "Pm9linAQoNZW"
      }
    },
    {
      "cell_type": "code",
      "execution_count": null,
      "source": [
        "class Fruit:\n",
        "    def __init__(self,name): # <-- Constructor\n",
        "        self.name = name\n",
        "        \n",
        "    def __str__(self):\n",
        "        return f'The name of the fruit is {self.name}'\n",
        "    \n",
        "fruit1 = Fruit('Apple')\n",
        "print(fruit1)"
      ],
      "outputs": [
        {
          "output_type": "stream",
          "name": "stdout",
          "text": [
            "The name of the fruit is Apple\n"
          ]
        }
      ],
      "metadata": {
        "id": "WU491pGIPxhi",
        "outputId": "e796d588-5537-45ae-8114-62977375f71b"
      }
    },
    {
      "cell_type": "code",
      "execution_count": null,
      "source": [
        "class Fruit:\n",
        "    def __init__(self,name, seed_type = 'hard'): # <-- Constructor\n",
        "        self.name = name\n",
        "        self.seed_type = seed_type\n",
        "        \n",
        "    def __str__(self):\n",
        "        return f'The name of the fruit is {self.name} and its seeds are {self.seed_type}'\n",
        "    \n",
        "fruit1 = Fruit('Kiwi','soft')\n",
        "print(fruit1)"
      ],
      "outputs": [],
      "metadata": {
        "id": "wutDEdOdPxhi"
      }
    },
    {
      "cell_type": "markdown",
      "source": [
        "Task: <br>\n",
        "1) add 2 attributes: Taste and color<br>\n",
        "2) Add 3 instances of the object"
      ],
      "metadata": {
        "id": "f46EHytMPxhz"
      }
    },
    {
      "cell_type": "code",
      "execution_count": null,
      "source": [
        "#your code here\n",
        "class Fruit:\n",
        "    def __init__(self,name, seed_type = 'hard', taste = None, color=None): # <-- Constructor\n",
        "        self.name = name\n",
        "        self.seed_type = seed_type\n",
        "        self.taste = taste\n",
        "        self.color = color\n",
        "        # self.contexture = contexture\n",
        "        # self.amount = amount\n",
        "        #  shape, contexture, amount\n",
        "\n",
        "    def __str__(self):\n",
        "        return f'The name of the fruit is {self.name} and its seeds are {self.seed_type} This {self.name} taste like {self.taste}. Its color is {self.color}'\n",
        "    \n",
        "fruit1 = Fruit('Kiwi','soft')\n",
        "print(fruit1)\n",
        "fruit2 = Fruit('Apple','Hard')\n",
        "print(fruit1)\n",
        "fruit3 = Fruit('Watermelon','hard and sort')\n",
        "print(fruit1)\n",
        "fruit1.taste = 'sweet' \n",
        "fruit1.color = 'green' \n"
      ],
      "outputs": [],
      "metadata": {
        "id": "sIl4HSnVPxh0"
      }
    },
    {
      "cell_type": "markdown",
      "source": [
        "Create a new class called NumberTheory with the following\n",
        "methods:\n",
        "1) is_prime\n",
        "2) factors\n",
        "3) prime_factors\n",
        "4) square_root\n",
        "<br> Hint for prime number finder is below:"
      ],
      "metadata": {
        "id": "KmIiA7XdpNTG"
      }
    },
    {
      "cell_type": "code",
      "execution_count": null,
      "source": [
        "class NumberTheory:\n",
        "    def __init__(self, number):\n",
        "        self.number = number\n",
        "        self.factors_list = self.factors()\n",
        "    def is_prime(self):\n",
        "        prime = [True for i in range(2, self.number) if (self.number % i) == 0]\n",
        "        if prime: \n",
        "            print (self.number, \"is a prime number\") \n",
        "    def factors(self): \n",
        "        return [i for i in range(1, self.number + 1) if self.number % i == 0]\n",
        "    def prime_factors(self):\n",
        "        for x in self.factors_list:\n",
        "            flag = False\n",
        "            if x > 1:\n",
        "                for i in range(2, x):\n",
        "                    if (x % i) == 0: # if factor is found, set flag to True\n",
        "                        flag = True\n",
        "                        break\n",
        "            if flag:\n",
        "                print(x, \"is not a prime number\")\n",
        "            else:\n",
        "                print(x, \"is a prime number\")\n",
        "    def square_root(self):\n",
        "        return self.number**2\n",
        "\n",
        "Num1 = NumberTheory(15)\n",
        "print (Num1.is_prime())\n",
        "print ('----')\n",
        "print ('The factors are:', Num1.factors())\n",
        "print ('----')\n",
        "print (Num1.prime_factors())\n",
        "print ('----')\n",
        "print (Num1.square_root())"
      ],
      "outputs": [],
      "metadata": {}
    },
    {
      "cell_type": "code",
      "execution_count": null,
      "source": [
        "class NumberTheory:\n",
        "    def __init__(self, numberA, numberB = 0):\n",
        "        self.numberA = numberA\n",
        "        self.numberB = numberB\n",
        "        # self.factors_list = self.factors()\n",
        "    def is_prime(self,num):\n",
        "        flag = False\n",
        "        if num > 1:\n",
        "            for i in range(2, num):\n",
        "                if (num % i) == 0: # if factor is found, set flag to True\n",
        "                    flag = True\n",
        "                    break\n",
        "        return f'{num} is not a prime number' if not flag else f'{num} is a prime number'\n",
        "    def factors(self,num): \n",
        "        return [i for i in range(1, num + 1) if num % i == 0]\n",
        "    def prime_factors(self):\n",
        "        for x in self.factors_list:\n",
        "            print(self.is_prime(x))\n",
        "    def square_root(self):\n",
        "        return self.number**2\n",
        "    def EvenOdd(self):\n",
        "        return f'{self.number} is Even' if (self.number % 2) == 0 else f'{self.number} is Odd'\n",
        "    def GCF(self):\n",
        "        print(self.factors(self.numberA))\n",
        "        print(self.factors(self.numberB))\n",
        "\n",
        "        \n",
        "\n",
        "Num1 = NumberTheory(20,40)\n",
        "print (Num1.GCF(24,40))\n",
        "# print (Num1.is_prime(24))\n",
        "# print ('----')\n",
        "# print ('The factors are:', Num1.factors())\n",
        "# print ('----')\n",
        "# print (Num1.prime_factors())\n",
        "# print ('----')\n",
        "# print (Num1.square_root())\n",
        "# print ('----')\n",
        "# print (Num1.EvenOdd())\n",
        "# print ('-+-+-+-')\n",
        "# Num1 = NumberTheory(25)\n",
        "# print (Num1.is_prime(25))\n",
        "# print ('----')\n",
        "# print ('The factors are:', Num1.factors())\n",
        "# print ('----')\n",
        "# print (Num1.prime_factors())\n",
        "# print ('----')\n",
        "# print (Num1.square_root())\n",
        "# print ('----')\n",
        "# print (Num1.EvenOdd())"
      ],
      "outputs": [],
      "metadata": {}
    },
    {
      "cell_type": "code",
      "execution_count": 1,
      "source": [
        "class NumberTheory:\n",
        "    def __init__(self, number, numberA=0, numberB = 0):\n",
        "        self.number = number\n",
        "        # self.numberA = numberA\n",
        "        # self.numberB = numberB\n",
        "        # self.factors_list = self.factors()\n",
        "    def is_prime(self,num):\n",
        "        flag = False\n",
        "        if num > 1:\n",
        "            for i in range(2, num):\n",
        "                if (num % i) == 0: # if factor is found, set flag to True\n",
        "                    flag = True\n",
        "                    break\n",
        "        return f'{num} is not a prime number' if not flag else f'{num} is a prime number'\n",
        "    def factors(self,num): \n",
        "        return [i for i in range(1, num + 1) if num % i == 0]\n",
        "    def prime_factors(self):\n",
        "        for x in self.factors_list:\n",
        "            print(self.is_prime(x))\n",
        "    def square_root(self):\n",
        "        return self.number**2\n",
        "    def EvenOdd(self):\n",
        "        return f'{self.number} is Even' if (self.number % 2) == 0 else f'{self.number} is Odd'\n",
        "    def GCF(self, num1, num2):\n",
        "        Fact_numberA = self.factors(num1)\n",
        "        Fact_numberB = self.factors(num2)\n",
        "        # print (Fact_numberA, Fact_numberB)\n",
        "        biggest = True if len(Fact_numberA) > len(Fact_numberB) else False\n",
        "        if biggest:\n",
        "            big_factList, small_factList = Fact_numberA, Fact_numberB\n",
        "        else:\n",
        "            big_factList, small_factList = Fact_numberB, Fact_numberA\n",
        "        big_factList.reverse()\n",
        "        small_factList.reverse()\n",
        "        print (big_factList, small_factList)\n",
        "        for i in big_factList:\n",
        "            if i in small_factList:\n",
        "                return f'The Greatest Common Factor {i}'\n",
        "\n",
        "        \n",
        "\n",
        "Num1 = NumberTheory(20)\n",
        "print (Num1.is_prime(24))\n",
        "# print ('----')\n",
        "# print ('The factors are:', Num1.factors(24))\n",
        "# print ('----')\n",
        "# print (Num1.prime_factors())\n",
        "# print ('----')\n",
        "# print (Num1.square_root())\n",
        "# print ('----')\n",
        "# print (Num1.EvenOdd())\n",
        "# print ('----')\n",
        "# print (Num1.GCF(24,40))\n",
        "# print ('-+-+-+-')\n",
        "# Num1 = NumberTheory(25)\n",
        "# print (Num1.is_prime(25))\n",
        "# print ('----')\n",
        "# print ('The factors are:', Num1.factors())\n",
        "# print ('----')\n",
        "# print (Num1.prime_factors())\n",
        "# print ('----')\n",
        "# print (Num1.square_root())\n",
        "# print ('----')\n",
        "# print (Num1.EvenOdd())\n",
        "# print ('----')\n",
        "# print (Num1.GCF(24,40))"
      ],
      "outputs": [
        {
          "output_type": "stream",
          "name": "stdout",
          "text": [
            "24 is a prime number\n"
          ]
        }
      ],
      "metadata": {}
    },
    {
      "cell_type": "code",
      "execution_count": 121,
      "source": [
        "numberA = 20 \n",
        "numberA = 40\n",
        "#call factor funtion \n",
        "Fact_numberA =  ([i for i in range(1, numberA + 1) if numberA % i == 0])\n",
        "Fact_numberB =  ([i for i in range(1, numberB + 1) if numberB % i == 0])\n",
        "biggest = True if len(Fact_numberA) > len(Fact_numberB) else False\n",
        "if biggest:\n",
        "    big_factList, small_factList = Fact_numberA, Fact_numberB\n",
        "else:\n",
        "    big_factList, small_factList = Fact_numberB, Fact_numberA\n",
        "big_factList.reverse()\n",
        "small_factList.reverse()\n",
        "print (big_factList, small_factList)\n",
        "for i in big_factList:\n",
        "    if i in small_factList:\n",
        "        print(i)\n",
        "        break\n",
        "\n"
      ],
      "outputs": [
        {
          "output_type": "stream",
          "name": "stdout",
          "text": [
            "[40, 20, 10, 8, 5, 4, 2, 1] [20, 10, 5, 4, 2, 1]\n",
            "20\n"
          ]
        }
      ],
      "metadata": {}
    },
    {
      "cell_type": "markdown",
      "source": [
        "<h2>Revisiting the Geometry Class Exercise</h2>\n",
        "Now for review, we'll briefly revisit the structure of the class you created yesterday. <br>\n",
        "TASK: Simplify this code to accept 2 sides only and switch accepted shape types to include circle, square, and rectangle (you're replacing triangle with square, so you'll only need 1 side for area and perimeter). "
      ],
      "metadata": {
        "id": "8adtG9FxPxh2"
      }
    },
    {
      "cell_type": "code",
      "execution_count": null,
      "source": [
        "import math\n",
        "class Geometry():\n",
        "    def __init__(self,shape,side_1,side_2):\n",
        "        self.shape = shape\n",
        "        self.side_1 = side_1\n",
        "        self.side_2 = side_2\n",
        "        # self.side_3 = side_3\n",
        "        res = 0\n",
        "    \n",
        "    def calc_perimeter(self):\n",
        "        if self.shape == 'C':\n",
        "            res = round(math.pi * self.side_1,2)\n",
        "        elif self.shape == 'R':\n",
        "            res = (self.side_1 *2) + (self.side_2 * 2)\n",
        "        elif self.shape == 'S':\n",
        "            res = 4*self.side_1 \n",
        "        return res\n",
        "    def calc_area(self):\n",
        "        if self.shape == 'C':\n",
        "            res = round(math.pi * ((self.side_1/2)**2),2)\n",
        "        elif self.shape == 'R':\n",
        "            res = self.side_1 * self.side_2\n",
        "        elif self.shape == 'S':\n",
        "            res = self.side_1**2\n",
        "        return res\n",
        "Geo = Geometry('R',4,5)\n",
        "print(Geo.calc_perimeter())\n",
        "print(Geo.calc_area())\n",
        "Geo_2 = Geometry('C',6,1)\n",
        "print(Geo_2.calc_perimeter())\n",
        "print(Geo_2.calc_area())\n",
        "Geo_3 = Geometry('S',7,6)\n",
        "print(Geo_3.calc_perimeter())\n",
        "print(Geo_3.calc_area())"
      ],
      "outputs": [],
      "metadata": {}
    },
    {
      "cell_type": "code",
      "execution_count": null,
      "source": [
        "import math\n",
        "class Geometry():\n",
        "    def __init__(self,shape,side_1,side_2,side_3):\n",
        "        self.shape = shape\n",
        "        self.side_1 = side_1\n",
        "        self.side_2 = side_2\n",
        "        self.side_3 = side_3\n",
        "        res = 0\n",
        "    \n",
        "    def calc_perimeter(self):\n",
        "        if self.shape == 'C':\n",
        "            res = round(math.pi * self.side_1,2)\n",
        "        elif self.shape == 'R':\n",
        "            res = (self.side_1 *2) + (self.side_2 * 2)\n",
        "        elif self.shape == 'T':\n",
        "            res = self.side_1 + self.side_2 + self.side_3\n",
        "        return res\n",
        "    def calc_area(self):\n",
        "        if self.shape == 'C':\n",
        "            res = round(math.pi * ((self.side_1/2)**2),2)\n",
        "        elif self.shape == 'R':\n",
        "            res = self.side_1 * self.side_2\n",
        "        elif self.shape == 'T':\n",
        "            res = ((0.5*self.side_1) * self.side_2) \n",
        "        return res\n",
        "Geo = Geometry('R',4,5,1)\n",
        "print(Geo.calc_perimeter())\n",
        "print(Geo.calc_area())\n",
        "Geo_2 = Geometry('C',6,1,1)\n",
        "print(Geo_2.calc_perimeter())\n",
        "print(Geo_2.calc_area())\n",
        "Geo_3 = Geometry('T',7,6,3)\n",
        "print(Geo_3.calc_perimeter())\n",
        "print(Geo_3.calc_area())"
      ],
      "outputs": [],
      "metadata": {
        "id": "wdw3CU2dPxh2"
      }
    },
    {
      "cell_type": "markdown",
      "source": [
        "<h2>Banking App Model</h2>"
      ],
      "metadata": {
        "id": "82G8nPvqPxh3"
      }
    },
    {
      "cell_type": "markdown",
      "source": [
        "Open an account with Name and possibly an initial deposit amount\n",
        "When you print the object have This person deposited X amount and now has Y amount on deposit\n"
      ],
      "metadata": {
        "id": "qJ1wZ2spq0FN"
      }
    },
    {
      "cell_type": "code",
      "execution_count": 10,
      "source": [
        "class Banking():\n",
        "    # This class would allow to deposit, withdraw, and transfer between user's accounts\n",
        "    def __init__(self, users, bank_balance = 100):\n",
        "        self.users = users\n",
        "        self.bank_balance = bank_balance\n",
        "\n",
        "    def find_user(self,name):\n",
        "        #This mehthod provide a user bank information once its name is provided and verified \n",
        "        for i in self.users:\n",
        "            if name == i.name:\n",
        "                return i\n",
        "\n",
        "    def deposits(self, user, num=0):\n",
        "        # Deposite add money to user's bank account and to the bank balance, will take money out of the user pocket\n",
        "        user.balance += num\n",
        "        user.pocket -= num\n",
        "        self.bank_balance+=num\n",
        "        return f\"After deposit {num} in {user.name} account. \\n {user.name}'s balanca is {user.balance}, pocket balance is {user.pocket}.\"  \n",
        "\n",
        "    def withdraws(self, user, num=0):\n",
        "        if user.balance > num:\n",
        "            self.bank_balance-=num\n",
        "            user.balance -= num\n",
        "            user.pocket += num\n",
        "            ret =  f'After withdraw {num}. \\n The {user.name} bsnk balance is:{user.balance} and pocket balance is {user.pocket}' \n",
        "        else:\n",
        "            ret = 'You do not have enough found for this transaction.'\n",
        "        return ret\n",
        "    def transation(self, userA, userB, num=0):\n",
        "        if userA.balance > num:\n",
        "            userB.balance += num\n",
        "            userA.balance -= num\n",
        "            ret = f'Deposit {num} from {userA.name} to {userB.name}. \\n {userA.name} new balance is {userA.balance} \\n {userB.name} new balance is {userB.balance}'\n",
        "        else: ret = 'You do not have enough found for this transaction.'\n",
        "        return ret\n",
        "        \n",
        "\n",
        "\n",
        "class User():\n",
        "    # In this class a user is created\n",
        "    def __init__(self, name, balance = 50, pocket=100):\n",
        "        self.name = name\n",
        "        self.balance = balance\n",
        "        self.pocket = pocket\n",
        "\n",
        "    def user_info(self):\n",
        "        return [self.name, self.balance, self.pocket]\n",
        "\n",
        "\n",
        "names = ['Julieth', 'Juliana', 'Johan'] #Users list\n",
        "lst_user = [User(i) for i in names]     #Creation of User's objects \n",
        "bank = Banking(lst_user)                #Object Bank hold transactions\n",
        "userA = bank.find_user('Johan')\n",
        "userB = bank.find_user('Juliana')\n",
        "print (bank.deposits(userA, 30))\n",
        "print (bank.withdraws(userA, 40))\n",
        "print (bank.transation(userA, userB, 16))\n",
        "# print (userA.user_info())\n",
        "# print (userB.user_info())\n",
        "\n"
      ],
      "outputs": [
        {
          "output_type": "stream",
          "name": "stdout",
          "text": [
            "After deposit 30 in Johan account. \n",
            " Johan's balanca is 80, pocket balance is 70.\n",
            "After withdraw 40. \n",
            " The Johan bsnk balance is:40 and pocket balance is 110\n",
            "Deposit 16 from Johan to Juliana. \n",
            " Johan new balance is 24 \n",
            " Juliana new balance is 66\n"
          ]
        }
      ],
      "metadata": {}
    },
    {
      "cell_type": "markdown",
      "source": [
        "<h2>HW</h2>\n",
        "Add a withdrawal method<br>\n",
        "NOTE: you cannot let someone withdraw more money than they have in their account<br>\n"
      ],
      "metadata": {
        "id": "l0jI_X5gPxh5"
      }
    },
    {
      "cell_type": "code",
      "execution_count": null,
      "source": [],
      "outputs": [],
      "metadata": {
        "id": "w-EyZKEcPxh5"
      }
    }
  ],
  "metadata": {
    "kernelspec": {
      "name": "python3",
      "display_name": "Python 3.9.7 64-bit"
    },
    "language_info": {
      "codemirror_mode": {
        "name": "ipython",
        "version": 3
      },
      "file_extension": ".py",
      "mimetype": "text/x-python",
      "name": "python",
      "nbconvert_exporter": "python",
      "pygments_lexer": "ipython3",
      "version": "3.9.7"
    },
    "colab": {
      "name": "CI Data Science-Lesson 05_no answers.ipynb",
      "provenance": []
    },
    "interpreter": {
      "hash": "aee8b7b246df8f9039afb4144a1f6fd8d2ca17a180786b69acc140d282b71a49"
    }
  },
  "nbformat": 4,
  "nbformat_minor": 2
}