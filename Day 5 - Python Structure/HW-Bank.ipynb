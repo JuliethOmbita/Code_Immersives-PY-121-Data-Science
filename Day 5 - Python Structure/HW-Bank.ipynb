{
 "cells": [
  {
   "cell_type": "markdown",
   "source": [
    "<h2>Banking App Model</h2>\n",
    "Open an account with Name and possibly an initial deposit amount\n",
    "When you print the object have This person deposited X amount and now has Y amount on deposit\n"
   ],
   "metadata": {}
  },
  {
   "cell_type": "code",
   "execution_count": 1,
   "source": [
    "class Banking():\n",
    "    # This class would allow to deposit, withdraw, and transfer between user's accounts\n",
    "    def __init__(self, users, bank_balance = 100):\n",
    "        self.users = users\n",
    "        self.bank_balance = bank_balance\n",
    "\n",
    "    def find_user(self,name):\n",
    "        #This mehthod provide a user bank information once its name is provided and verified \n",
    "        for i in self.users:\n",
    "            if name == i.name:\n",
    "                return i\n",
    "\n",
    "    def deposits(self, user, num=0):\n",
    "        # Deposite add money to user's bank account and to the bank balance, will take money out of the user pocket\n",
    "        user.balance += num\n",
    "        user.pocket -= num\n",
    "        self.bank_balance+=num\n",
    "        return f\"After deposit {num} in {user.name} account. \\n {user.name}'s balanca is {user.balance}, pocket balance is {user.pocket}.\"  \n",
    "\n",
    "    def withdraws(self, user, num=0):\n",
    "        if user.balance > num:\n",
    "            self.bank_balance-=num\n",
    "            user.balance -= num\n",
    "            user.pocket += num\n",
    "            ret =  f'After withdraw {num}. \\n The {user.name} bsnk balance is:{user.balance} and pocket balance is {user.pocket}' \n",
    "        else:\n",
    "            ret = 'You do not have enough found for this transaction.'\n",
    "        return ret\n",
    "    def transation(self, userA, userB, num=0):\n",
    "        if userA.balance > num:\n",
    "            userB.balance += num\n",
    "            userA.balance -= num\n",
    "            ret = f'Deposit {num} from {userA.name} to {userB.name}. \\n {userA.name} new balance is {userA.balance} \\n {userB.name} new balance is {userB.balance}'\n",
    "        else: ret = 'You do not have enough found for this transaction.'\n",
    "        return ret\n",
    "        \n",
    "\n",
    "\n",
    "class User():\n",
    "    # In this class a user is created\n",
    "    def __init__(self, name, balance = 50, pocket=100):\n",
    "        self.name = name\n",
    "        self.balance = balance\n",
    "        self.pocket = pocket\n",
    "\n",
    "    def user_info(self):\n",
    "        return [self.name, self.balance, self.pocket]\n",
    "\n",
    "\n",
    "names = ['Julieth', 'Juliana', 'Johan'] #Users list\n",
    "lst_user = [User(i) for i in names]     #Creation of User's objects \n",
    "bank = Banking(lst_user)                #Object Bank hold transactions\n",
    "userA = bank.find_user('Johan')\n",
    "userB = bank.find_user('Juliana')\n",
    "print (bank.deposits(userA, 30))\n",
    "print (bank.withdraws(userA, 40))\n",
    "print (bank.transation(userA, userB, 16))\n",
    "# print (userA.user_info())\n",
    "# print (userB.user_info())"
   ],
   "outputs": [
    {
     "output_type": "stream",
     "name": "stdout",
     "text": [
      "After deposit 30 in Johan account. \n",
      " Johan's balanca is 80, pocket balance is 70.\n",
      "After withdraw 40. \n",
      " The Johan bsnk balance is:40 and pocket balance is 110\n",
      "Deposit 16 from Johan to Juliana. \n",
      " Johan new balance is 24 \n",
      " Juliana new balance is 66\n"
     ]
    }
   ],
   "metadata": {}
  }
 ],
 "metadata": {
  "orig_nbformat": 4,
  "language_info": {
   "name": "python",
   "version": "3.9.7",
   "mimetype": "text/x-python",
   "codemirror_mode": {
    "name": "ipython",
    "version": 3
   },
   "pygments_lexer": "ipython3",
   "nbconvert_exporter": "python",
   "file_extension": ".py"
  },
  "kernelspec": {
   "name": "python3",
   "display_name": "Python 3.9.7 64-bit"
  },
  "interpreter": {
   "hash": "aee8b7b246df8f9039afb4144a1f6fd8d2ca17a180786b69acc140d282b71a49"
  }
 },
 "nbformat": 4,
 "nbformat_minor": 2
}