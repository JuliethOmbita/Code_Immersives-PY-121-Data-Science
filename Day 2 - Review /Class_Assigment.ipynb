{
 "cells": [
  {
   "cell_type": "markdown",
   "source": [
    "<h2>Exercise 1 - HOMEWORK </h2><a id=\"6\"></a>\n",
    "We have captured the following grades for 4 students in a graduate level phD<br>\n",
    "chemistry program.  <br>\n",
    "<code>\n",
    "chemistry_grades = {'Hester': ['88','99','89','90','80','88','93','94','91','80'] ,\n",
    "                    'Walter': ['83','92','83','76','75','85','93','92','90','91'] ,\n",
    "                    'George': ['86','90','86','84','78','84','93','94','81','90'] ,\n",
    "                    'Susan':  ['81','94','80','79','74','94','93','92','94','98'] ,\n",
    "                    'Kathy':  ['78','89','70','99','81','85','93','97','96','92'] }\n",
    "</code>\n",
    "<br>\n",
    "1 - Calculate the mean and standard deviation of each exam?<br>\n",
    "2 - Calculate each students gpa?<br>\n",
    "3 - Which exam had the biggest range?<br>\n",
    "4 - Which exam had the lowest mean?  Add 10 points to the test score of each student<br>\n",
    "on that exam and recalulate the mean and standard deviation<br>"
   ],
   "metadata": {}
  },
  {
   "cell_type": "code",
   "execution_count": 60,
   "source": [
    "import math\n",
    "\n",
    "#Definition of funtions\n",
    "def calc_std(lst):\n",
    "    #This canlcule the Stadar Derivation\n",
    "    res = math.sqrt((sum([(y-(sum(lst)/len(lst)))**2 for y in lst]))/(len(lst)-1))\n",
    "    return res\n",
    "\n",
    "def test (lst, index): \n",
    "    # Return a list with the value in the index position (index) of a list of list (Grades of each exam)\n",
    "    return [exam[index] for exam in lst]"
   ],
   "outputs": [],
   "metadata": {}
  },
  {
   "cell_type": "code",
   "execution_count": 61,
   "source": [
    "chemistry_grades = {'Hester': [88,99,89,90,80,88,93,94,91,80] ,\n",
    "                    'Walter': [83,92,83,76,75,85,93,92,90,91] ,\n",
    "                    'George': [86,90,86,84,78,84,93,94,81,90] ,\n",
    "                    'Susan':  [81,94,80,79,74,94,93,92,94,98] ,\n",
    "                    'Kathy':  [78,89,70,99,81,85,93,97,96,92] }\n",
    "\n",
    "exam_range=[]\n",
    "exam_mean=[]\n",
    "\n",
    "# List of the dictionary's values 'chemistry_grades'\n",
    "list_grade = list(chemistry_grades.values())\n",
    "\n",
    "print ('1 - Mean and Standard Deviation of each exam: ')\n",
    "    \n",
    "for i in range (len(list_grade[0])):\n",
    "    # casting the string exams values to a integer values\n",
    "    grades_exam = (list(map(int, test(list_grade, i))))\n",
    "    # exam_range = the exam grade range (Point 3)\n",
    "    exam_range.append(max(grades_exam) - min(grades_exam))\n",
    "    # exam_mean = the mean of each test (Point 4)\n",
    "    exam_mean.append(sum(grades_exam)/len(grades_exam)) \n",
    "    print ('Exam #', i+1, ': - Mean:',sum(grades_exam)/len(grades_exam)) \n",
    "    print ('           - Std:', calc_std(grades_exam))"
   ],
   "outputs": [
    {
     "output_type": "stream",
     "name": "stdout",
     "text": [
      "1 - Mean and Standard Deviation of each exam: \n",
      "Exam # 1 : - Mean: 83.2\n",
      "           - Std: 3.96232255123179\n",
      "Exam # 2 : - Mean: 92.8\n",
      "           - Std: 3.9623225512317894\n",
      "Exam # 3 : - Mean: 81.6\n",
      "           - Std: 7.3006848993775915\n",
      "Exam # 4 : - Mean: 85.6\n",
      "           - Std: 9.181503144910424\n",
      "Exam # 5 : - Mean: 77.6\n",
      "           - Std: 3.049590136395381\n",
      "Exam # 6 : - Mean: 87.2\n",
      "           - Std: 4.08656334834051\n",
      "Exam # 7 : - Mean: 93.0\n",
      "           - Std: 0.0\n",
      "Exam # 8 : - Mean: 93.8\n",
      "           - Std: 2.0493901531919194\n",
      "Exam # 9 : - Mean: 90.4\n",
      "           - Std: 5.770615218501403\n",
      "Exam # 10 : - Mean: 90.2\n",
      "           - Std: 6.496152707564686\n"
     ]
    }
   ],
   "metadata": {}
  },
  {
   "cell_type": "code",
   "execution_count": 62,
   "source": [
    "print ('2 - Students gpa:')\n",
    "[print ('Student #', i+1,'- GPA:', sum(grade)/len(grade)) for i, grade in enumerate(list_grade)]"
   ],
   "outputs": [
    {
     "output_type": "stream",
     "name": "stdout",
     "text": [
      "2 - Students gpa:\n",
      "Student # 1 - GPA: 89.2\n",
      "Student # 2 - GPA: 86.0\n",
      "Student # 3 - GPA: 86.6\n",
      "Student # 4 - GPA: 87.9\n",
      "Student # 5 - GPA: 88.0\n"
     ]
    },
    {
     "output_type": "execute_result",
     "data": {
      "text/plain": [
       "[None, None, None, None, None]"
      ]
     },
     "metadata": {},
     "execution_count": 62
    }
   ],
   "metadata": {}
  },
  {
   "cell_type": "code",
   "execution_count": 63,
   "source": [
    "print ('3 - Which exam had the biggest range?')\n",
    "# use max\n",
    "print ('Examen #', exam_range.index(max(exam_range)),'-  Range:', max(exam_range))"
   ],
   "outputs": [
    {
     "output_type": "stream",
     "name": "stdout",
     "text": [
      "3 - Which exam had the biggest range?\n",
      "Examen # 3 -  Range: 23\n"
     ]
    }
   ],
   "metadata": {}
  },
  {
   "cell_type": "code",
   "execution_count": 64,
   "source": [
    "print ('4 - Which exam had the lowest mean?')  \n",
    "# use min \n",
    "print('Exam #', exam_mean.index(min(exam_mean)), '- Mean: ', min(exam_mean))\n",
    "lowest_test_index = exam_mean.index(min(exam_mean))\n"
   ],
   "outputs": [
    {
     "output_type": "stream",
     "name": "stdout",
     "text": [
      "4 - Which exam had the lowest mean?\n",
      "Exam # 4 - Mean:  77.6\n"
     ]
    }
   ],
   "metadata": {}
  },
  {
   "cell_type": "code",
   "execution_count": 58,
   "source": [
    "print ('5 -Add 10 points to the test score of each student on that exam and recalulate the mean and standard deviation')\n",
    "list_grade2 = list_grade\n",
    "for grade in list_grade2:\n",
    "    grade[lowest_test_index] = grade[lowest_test_index] + 10\n",
    "\n",
    "for i in range (len(list_grade2[0])):\n",
    "    grades_exam_10 =  (test(list_grade2, i))\n",
    "    print ('Exam #', i+1, ': - New mean:',sum(grades_exam_10)/len(grades_exam_10)) \n",
    "    print ('           - New Std:', calc_std(grades_exam_10))\n",
    "\n",
    "# note: Adding 10 to the lowest test do not chance the mean and Std. \n",
    "# mean = New mean \n",
    "# Std = New Std\n"
   ],
   "outputs": [
    {
     "output_type": "stream",
     "name": "stdout",
     "text": [
      "5 -Add 10 points to the test score of each student on that exam and recalulate the mean and standard deviation\n",
      "Exam # 1 : - New mean: 83.2\n",
      "           - New Std: 3.96232255123179\n",
      "Exam # 2 : - New mean: 92.8\n",
      "           - New Std: 3.9623225512317894\n",
      "Exam # 3 : - New mean: 81.6\n",
      "           - New Std: 7.3006848993775915\n",
      "Exam # 4 : - New mean: 85.6\n",
      "           - New Std: 9.181503144910424\n",
      "Exam # 5 : - New mean: 157.6\n",
      "           - New Std: 3.049590136395381\n",
      "Exam # 6 : - New mean: 87.2\n",
      "           - New Std: 4.08656334834051\n",
      "Exam # 7 : - New mean: 93.0\n",
      "           - New Std: 0.0\n",
      "Exam # 8 : - New mean: 93.8\n",
      "           - New Std: 2.0493901531919194\n",
      "Exam # 9 : - New mean: 90.4\n",
      "           - New Std: 5.770615218501403\n",
      "Exam # 10 : - New mean: 90.2\n",
      "           - New Std: 6.496152707564686\n"
     ]
    }
   ],
   "metadata": {}
  }
 ],
 "metadata": {
  "orig_nbformat": 4,
  "language_info": {
   "name": "python",
   "version": "3.9.7",
   "mimetype": "text/x-python",
   "codemirror_mode": {
    "name": "ipython",
    "version": 3
   },
   "pygments_lexer": "ipython3",
   "nbconvert_exporter": "python",
   "file_extension": ".py"
  },
  "kernelspec": {
   "name": "python3",
   "display_name": "Python 3.9.7 64-bit"
  },
  "interpreter": {
   "hash": "aee8b7b246df8f9039afb4144a1f6fd8d2ca17a180786b69acc140d282b71a49"
  }
 },
 "nbformat": 4,
 "nbformat_minor": 2
}