{
 "cells": [
  {
   "cell_type": "markdown",
   "source": [
    "<h2>Exercise 2 - *** HOMEWORK OVER A WEEKEND***</h2><a id=\"8\"></a>\n",
    "You are a data scientist in the bio chemical division of a large pharmaceutical company<br>\n",
    "trying to find a method to break a gene strand by using a matching protein<br>\n",
    "<code>\n",
    "protein_strand = '''ACACGTGTCAGTTGTGCAGTACACGTACGTCAGTCAACTGTGACCAGTTGGTCAGT\n",
    "    CAACCAACGTCAGTCAACTGACCACAGTGTCATGACACGTACGT'''\n",
    "</code>\n",
    "<br>\n",
    "1 - How many times does the sequence 'AGTC' appear in the protein_strand?<br>\n",
    "2 - The sequence 'CAACTGGT' will split the strand when matched against its opposite<br>\n",
    "    List all remaining pieces after the split. <br>\n",
    "3 - Group all character in groups of 4 and output how many times each sequence appears <br>\n",
    "4 - Which group of 4 appears the most?\n",
    "<br>\n",
    "<br>\n",
    "HINT: 'A' only pairs with 'C' and 'G' only pairs with 'T'<br>"
   ],
   "metadata": {}
  },
  {
   "cell_type": "code",
   "execution_count": 3,
   "source": [
    "protein_strand = 'ACACGTGTCAGTTGTGCAGTACACGTACGTCAGTCAACTGTGACCAGTTGGTCAGTCAACCAACGTCAGTCAACTGACCACAGTGTCATGACACGTACGT'\n",
    "sequence = 'AGTC'\n",
    "\n",
    "print (\"1 - The sequence 'AGTC' appear in the protein_strand:\", protein_strand.count(sequence), \"times\")\n",
    "# -------------------------\n",
    "print (\"2 - The sequence 'CAACTGGT' will split the strand when matched against its opposite. List all remaining pieces after the split.\")\n",
    "break_sequence = 'CAACTGGT'\n",
    "# Iterate over the list of break_sequence and replace the pair A <=> C, G <=> T \n",
    "opposite_sequence = \"\".join([\"C\" if i=='A' else \"A\" if i=='C' else \"G\" if i=='T' else \"T\" for i in list(break_sequence)])\n",
    "print ('Remaining pieces after the split:', protein_strand.split(opposite_sequence))\n",
    "# -------------------------\n",
    "print('3 - Group all character in groups of 4 and output how many times each sequence appears')\n",
    "groups_4 = [protein_strand[0+i:4+i] for i in range(len(protein_strand)) if (len(protein_strand[0+i:4+i]) == 4)]\n",
    "dict_groups = {}\n",
    "for i in groups_4:\n",
    "    dict_groups[i] = groups_4.count(i)\n",
    "print (dict_groups)\n",
    "\n",
    "# -------------------------\n",
    "print('4 - Which group of 4 appears the most?')\n",
    "print ('Group', [seq for seq,number in dict_groups.items() if number==max(dict_groups.values())], 'appears', max(dict_groups.values()))\n",
    "# -------------------------\n",
    "# -------------------------"
   ],
   "outputs": [
    {
     "output_type": "stream",
     "name": "stdout",
     "text": [
      "1 - The sequence 'AGTC' appear in the protein_strand: 3 times\n",
      "2 - The sequence 'CAACTGGT' will split the strand when matched against its opposite. List all remaining pieces after the split.\n",
      "Remaining pieces after the split: ['ACACGTGTCAGTTGTGCAGTACACGTACGTCAGTCAACTGTG', 'GTCAGTCAACCAACGTCAGTCAACTGACCACAGTGTCATGACACGTACGT']\n",
      "3 - Group all character in groups of 4 and output how many times each sequence appears\n",
      "{'ACAC': 3, 'CACG': 3, 'ACGT': 6, 'CGTG': 1, 'GTGT': 2, 'TGTC': 2, 'GTCA': 8, 'TCAG': 4, 'CAGT': 7, 'AGTT': 2, 'GTTG': 2, 'TTGT': 1, 'TGTG': 2, 'GTGC': 1, 'TGCA': 1, 'GCAG': 1, 'AGTA': 1, 'GTAC': 3, 'TACA': 1, 'CGTA': 2, 'TACG': 2, 'CGTC': 2, 'AGTC': 3, 'TCAA': 3, 'CAAC': 4, 'AACT': 2, 'ACTG': 2, 'CTGT': 1, 'GTGA': 1, 'TGAC': 3, 'GACC': 2, 'ACCA': 3, 'CCAG': 1, 'TTGG': 1, 'TGGT': 1, 'GGTC': 1, 'AACC': 1, 'CCAA': 1, 'AACG': 1, 'CTGA': 1, 'CCAC': 1, 'CACA': 1, 'ACAG': 1, 'AGTG': 1, 'TCAT': 1, 'CATG': 1, 'ATGA': 1, 'GACA': 1}\n",
      "4 - Which group of 4 appears the most?\n",
      "Group ['GTCA'] appears 8\n"
     ]
    }
   ],
   "metadata": {}
  }
 ],
 "metadata": {
  "orig_nbformat": 4,
  "language_info": {
   "name": "python",
   "version": "3.9.7",
   "mimetype": "text/x-python",
   "codemirror_mode": {
    "name": "ipython",
    "version": 3
   },
   "pygments_lexer": "ipython3",
   "nbconvert_exporter": "python",
   "file_extension": ".py"
  },
  "kernelspec": {
   "name": "python3",
   "display_name": "Python 3.9.7 64-bit"
  },
  "interpreter": {
   "hash": "aee8b7b246df8f9039afb4144a1f6fd8d2ca17a180786b69acc140d282b71a49"
  }
 },
 "nbformat": 4,
 "nbformat_minor": 2
}