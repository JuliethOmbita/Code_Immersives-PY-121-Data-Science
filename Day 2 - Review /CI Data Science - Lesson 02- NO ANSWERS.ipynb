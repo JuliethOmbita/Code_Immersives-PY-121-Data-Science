{
 "cells": [
  {
   "cell_type": "markdown",
   "source": [
    "<a href=\"https://codeimmersives.com\"><img src = \"https://www.codeimmersives.com/wp-content/uploads/2019/09/CodeImmersives_Logo_RGB_NYC_BW.png\" width = 400> </a>\n",
    "\n",
    "\n",
    "<h1 align=center><font size = 5>Agenda</font></h1>"
   ],
   "metadata": {}
  },
  {
   "cell_type": "markdown",
   "source": [
    "### \n",
    "<div class=\"alert alert-block alert-info\" style=\"margin-top: 20px\">\n",
    "\n",
    "1.  [Review](#0)<br>\n",
    "2.  [Variance](#2)<br> \n",
    "3.  [Standard Deviation](#4)<br>     \n",
    "4.  [Exercise 1](#6)<br> \n",
    "5.  [Exercise 2](#8)<br>\n",
    "6.  [Exercise 3](#10)<br>    \n",
    "</div>\n",
    "<hr>"
   ],
   "metadata": {}
  },
  {
   "cell_type": "markdown",
   "source": [
    "<h2>Review</h2><a id=\"0\"></a>\n"
   ],
   "metadata": {}
  },
  {
   "cell_type": "markdown",
   "source": [
    "Calculate the mean, median, mode and standard deviation of the following data set:<br>\n",
    "<code>\n",
    "summer_temps = {'2020-04-01': [72,83],\n",
    "                '2020-04-02': [64,72],\n",
    "                '2020-04-03': [66,69],\n",
    "                '2020-04-04': [70,88],\n",
    "                '2020-04-05': [75,79],\n",
    "                '2020-04-06': [71,80],\n",
    "                '2020-04-07': [68,74],\n",
    "                '2020-04-08': [69,76],\n",
    "                '2020-04-09': [62,80],\n",
    "                '2020-04-10': [71,84],\n",
    "                '2020-04-11': [70,88],\n",
    "                '2020-04-12': [65,73],\n",
    "                '2020-04-13': [67,85],\n",
    "                '2020-04-14': [76,89],\n",
    "                '2020-04-15': [74,88],\n",
    "               }\n",
    "</code>\n",
    "<br>\n",
    "The first temperature represents the daily low and the 2nd represents<br>\n",
    "the daily high.<br>\n",
    "Calculate the following statistics:<br>\n",
    "1 - The mean, mode, median daily low<br>\n",
    "2 - The mean, mode, median daily high<br>\n",
    "3 - What is the daily temperature difference every day?<br>\n",
    "4 - What is the mean daily temperate difference every day?<br>"
   ],
   "metadata": {}
  },
  {
   "cell_type": "markdown",
   "source": [
    "<h4>Solution</h4>"
   ],
   "metadata": {}
  },
  {
   "cell_type": "code",
   "execution_count": 9,
   "source": [
    "summer_temps = {'2020-04-01': [72,83],\n",
    "                '2020-04-02': [64,72],\n",
    "                '2020-04-03': [66,69],\n",
    "                '2020-04-04': [70,88],\n",
    "                '2020-04-05': [75,79],\n",
    "                '2020-04-06': [71,80],\n",
    "                '2020-04-07': [68,74],\n",
    "                '2020-04-08': [69,76],\n",
    "                '2020-04-09': [62,80],\n",
    "                '2020-04-10': [71,84],\n",
    "                '2020-04-11': [70,88],\n",
    "                '2020-04-12': [65,73],\n",
    "                '2020-04-13': [67,85],\n",
    "                '2020-04-14': [76,89],\n",
    "                '2020-04-15': [74,88],\n",
    "               }\n",
    "# print (summer_temps.items())\n",
    "# for i in \n",
    "list_temp = list(summer_temps.values())\n",
    "print (list_temp)"
   ],
   "outputs": [
    {
     "output_type": "stream",
     "name": "stdout",
     "text": [
      "[[72, 83], [64, 72], [66, 69], [70, 88], [75, 79], [71, 80], [68, 74], [69, 76], [62, 80], [71, 84], [70, 88], [65, 73], [67, 85], [76, 89], [74, 88]]\n"
     ]
    }
   ],
   "metadata": {}
  },
  {
   "cell_type": "markdown",
   "source": [
    "<h2>Population Variance</h2><a id=\"2\"></a>\n",
    "It is the average of the squared differences from the mean<br>\n"
   ],
   "metadata": {}
  },
  {
   "cell_type": "markdown",
   "source": [
    "$\\sum_{i=1}^{n} (X_i - mean)^2$/n<br><br>\n",
    "Calculating the variance starts with calculating the mean<br>\n",
    "Steps for calculating the variance:<br>\n",
    "step 1 - Calculate the mean<br>\n",
    "step 2 - Subtract the mean from each number<br>\n",
    "step 3 - Square the difference of each value<br>\n",
    "step 4 - Sum the squares<br>\n",
    "step 5 - Divide by the number of items<br>\n",
    "<br>\n",
    "<code>\n",
    "grades = [84, 86, 80, 78, 90, 92, 94, 91, 89, 90]\n",
    "</code>\n",
    "<br>\n",
    "Calculate the variance of the data set"
   ],
   "metadata": {}
  },
  {
   "cell_type": "code",
   "execution_count": 13,
   "source": [
    "def calc_var(lst):\n",
    "    avg = sum(lst)/len(lst)\n",
    "    x = [x - avg for x in lst]\n",
    "    x_square = [y**2 for y in x]\n",
    "    x_sum = sum(x_square)\n",
    "    res = x_sum/len(lst)\n",
    "    return res\n",
    "\n",
    "grades = [84, 86, 80, 78, 90, 92, 94, 91, 89, 90]\n",
    "print(calc_var(grades))\n"
   ],
   "outputs": [
    {
     "output_type": "stream",
     "name": "stdout",
     "text": [
      "25.04\n"
     ]
    }
   ],
   "metadata": {}
  },
  {
   "cell_type": "markdown",
   "source": [
    "<h4>Refactored pythonic variance</h4>\n",
    "Use list comprehension<br>"
   ],
   "metadata": {}
  },
  {
   "cell_type": "code",
   "execution_count": null,
   "source": [],
   "outputs": [],
   "metadata": {}
  },
  {
   "cell_type": "markdown",
   "source": [
    "<h2>Standard Deviation</h2><a id=\"4\"></a>\n",
    "The standard deviation is a measure of how spread out the numbers in a data set are.<br>\n",
    "The formula is the square root of the variance.<br><br>\n",
    "\n",
    "$\\sqrt(\\sum_{i=1}^{n} (X_i - mean)^2$/n)<br><br>\n"
   ],
   "metadata": {}
  },
  {
   "cell_type": "code",
   "execution_count": 55,
   "source": [
    "import math\n",
    "\n",
    "def calc_std(lst):\n",
    "    x = [x - (sum(grades)/len(grades)) for x in lst]\n",
    "    x_square = sum([y**2 for y in x])\n",
    "    # res = (x_square/len(lst))**2\n",
    "    res = math.sqrt((x_square/(len(lst)-1)))\n",
    "    return res\n",
    "\n",
    "\n",
    "grades = [84, 86, 80, 78, 90, 92, 94, 91, 89, 90]\n",
    "print (statistics.stdev(grades))\n",
    "calc_std(grades)"
   ],
   "outputs": [
    {
     "output_type": "stream",
     "name": "stdout",
     "text": [
      "5.274677451960662\n"
     ]
    },
    {
     "output_type": "execute_result",
     "data": {
      "text/plain": [
       "5.274677451960661"
      ]
     },
     "metadata": {},
     "execution_count": 55
    }
   ],
   "metadata": {}
  },
  {
   "cell_type": "markdown",
   "source": [
    "<h2>Population vs Sample</h2>\n",
    "When we have all of the data collected from a studied topic we can calculate<br>\n",
    "the statistics like standard deviation of a population.  However, we will<br>\n",
    "usually use the sample statistic of variance and standard deviation by<br>\n",
    "dividing by n-1.  Which is the population minus 1.  Therefore the calculation<br>\n",
    "of the <b>sample variance</b> is:<br><br>\n",
    "\n",
    "$\\sum_{i=1}^{n} (X_i - mean)$/(n-1)<br><br>\n",
    "\n",
    "and the <b>sample standard deviation</b> is:<br><br>\n",
    "\n",
    "$\\sqrt(\\sum_{i=1}^{n} (X_i - mean)$/(n-1)<br><br>"
   ],
   "metadata": {}
  },
  {
   "cell_type": "markdown",
   "source": [
    "<h4>Empirical rule</h4>\n",
    "The empirical rule states that if a population has a normal distribution (bell shaped)<br>\n",
    "68% of the values lie within 1 SD of the mean<br>\n",
    "95% of the values lie within 2 SDs of the mean<br>\n",
    "99% of the values lie within 3 SDs of the mean<br>"
   ],
   "metadata": {}
  },
  {
   "cell_type": "markdown",
   "source": [
    "<h2>Exercise</h2>\n",
    "Using the previous file grades.txt calculate the following:<br>\n",
    "Calculate the boundaries of 1 standard deviation above and below the mean<br>\n",
    "1 STD goes from (mean - stdev) to (mean + stdev)<br>\n",
    "Calculate the boundaries of 2 standard deviation above and below the mean<br>\n",
    "2 STD goes from (mean - 2*stdev) to (mean + 2*stdev)<br>\n",
    "Calculate the boundaries of 3 standard deviation above and below the mean<br>\n",
    "3 STD goes from (mean - 3*stdev) to (mean + 3*stdev)<br>\n",
    "<br>\n",
    "Calculate the percentage of values that lie within those boundaries.<br>\n",
    "Is this a normal distribution?<br>\n",
    "<br>"
   ],
   "metadata": {}
  },
  {
   "cell_type": "code",
   "execution_count": 53,
   "source": [
    "import math\n",
    "def calc_var(lst):\n",
    "    x = [x - (sum(grades)/len(grades)) for x in lst]\n",
    "    res = (sum([y**2 for y in x]))/len(lst)\n",
    "    return res\n",
    "\n",
    "\n",
    "def calc_std(lst):\n",
    "    res = math.sqrt((sum([(y-(sum(lst)/len(lst)))**2 for y in lst]))/(len(lst)-1))\n",
    "    return res\n",
    "\n",
    "grades = [84, 86, 80, 78, 90, 92, 94, 91, 89, 90]\n",
    "print(calc_var(grades))\n",
    "calc_std(grades)\n"
   ],
   "outputs": [
    {
     "output_type": "stream",
     "name": "stdout",
     "text": [
      "25.04\n"
     ]
    },
    {
     "output_type": "execute_result",
     "data": {
      "text/plain": [
       "5.0039984012787215"
      ]
     },
     "metadata": {},
     "execution_count": 53
    }
   ],
   "metadata": {}
  },
  {
   "cell_type": "code",
   "execution_count": 54,
   "source": [
    "grades = [84, 86, 80, 78, 90, 92, 94, 91, 89, 90]\n",
    "print (sum(grades)/len(grades))\n",
    "print (calc_std(grades))\n",
    "\n",
    "tupple_sdt = ((sum(grades)/len(grades))-calc_std(grades), (sum(grades)/len(grades))+calc_std(grades))\n",
    "tupple_2sdt = ((sum(grades)/len(grades))-2*calc_std(grades), (sum(grades)/len(grades))+2*calc_std(grades))\n",
    "tupple_3sdt = ((sum(grades)/len(grades))-3*calc_std(grades), (sum(grades)/len(grades))+3*calc_std(grades))\n",
    "print (tupple_sdt, tupple_2sdt, tupple_3sdt)"
   ],
   "outputs": [
    {
     "output_type": "stream",
     "name": "stdout",
     "text": [
      "87.4\n",
      "5.0039984012787215\n",
      "(82.39600159872128, 92.40399840127873) (77.39200319744256, 97.40799680255745) (72.38800479616384, 102.41199520383617)\n"
     ]
    }
   ],
   "metadata": {}
  },
  {
   "cell_type": "markdown",
   "source": [
    "<h2>Standard Deviation related to the mean</h2>\n",
    "<br>\n",
    "What happens if we add a fixed number to values?  How does it<br>\n",
    "affect the mean?<br>\n",
    "<code>\n",
    "grades = [78, 80, 67, 77, 76, 78, 82, 74, 77, 70]\n",
    "fixed_amt = 10\n",
    "</code>\n",
    "<br>\n",
    "The instructor determines that he will add 10 points to every exam given<br>\n",
    "How does this affect the mean and the standard deviation?<br>\n",
    "What happens when you change the fixed amount?<br>"
   ],
   "metadata": {}
  },
  {
   "cell_type": "markdown",
   "source": [
    "<h4>Solution</h4>"
   ],
   "metadata": {}
  },
  {
   "cell_type": "code",
   "execution_count": null,
   "source": [],
   "outputs": [],
   "metadata": {}
  },
  {
   "cell_type": "markdown",
   "source": [
    "<h3>OBSERVATION</h3>\n",
    "The mean was increased by the factor, however, the standard deviation did not change!<br>"
   ],
   "metadata": {}
  },
  {
   "cell_type": "markdown",
   "source": [
    "<h2>Exercise</h2>\n",
    "We now want to multiply each item in our data set by a fixed amount.<br>\n",
    "How does this affect the mean and the standard deviation?<br>"
   ],
   "metadata": {}
  },
  {
   "cell_type": "markdown",
   "source": [
    "<h4>Solution</h4>"
   ],
   "metadata": {}
  },
  {
   "cell_type": "code",
   "execution_count": 61,
   "source": [
    "grades = [84, 86, 80, 78, 90, 92, 94, 91, 89, 90]\n",
    "\n",
    "print (\"Original average:\", sum(grades)/len(grades))\n",
    "print (\"Original Stdev:\", calc_std(grades))\n",
    "print (\"Original Variance:\", calc_var(grades))\n",
    "print (\"Original Mean:\", sum(grades)/len(grades))\n",
    "print (\"----\")\n",
    "fixed_amt = 5\n",
    "grades = [grade * fixed_amt for grade in grades]\n",
    "print (\"New Average\", sum(grades)/len(grades))\n",
    "print (\"New Stdev:\", calc_std(grades))\n",
    "print (\"New Variance:\", calc_var(grades))\n",
    "print (\"New mean:\", sum(grades)/len(grades))"
   ],
   "outputs": [
    {
     "output_type": "stream",
     "name": "stdout",
     "text": [
      "Original average: 87.4\n",
      "Original Stdev: 5.0039984012787215\n",
      "Original Variance: 25.04\n",
      "Original Mean: 87.4\n",
      "----\n",
      "New Average 437.0\n",
      "New Stdev: 25.019992006393608\n",
      "New Variance: 626.0\n",
      "New mean: 437.0\n"
     ]
    }
   ],
   "metadata": {}
  },
  {
   "cell_type": "code",
   "execution_count": 65,
   "source": [
    "# DIVISION\n",
    "grades = [84, 86, 80, 78, 90, 92, 94, 91, 89, 90]\n",
    "\n",
    "print (\"Original average:\", sum(grades)/len(grades))\n",
    "print (\"Original Stdev:\", calc_std(grades))\n",
    "print (\"Original Variance:\", calc_var(grades))\n",
    "print (\"Original Mean:\", sum(grades)/len(grades))\n",
    "print (\"----\")\n",
    "fixed_amt = 5\n",
    "grades = [grade / fixed_amt for grade in grades]\n",
    "print (\"New Average\", sum(grades)/len(grades))\n",
    "print (\"New Stdev:\", calc_std(grades))\n",
    "print (\"New Variance:\", calc_var(grades))\n",
    "print (\"New mean:\", sum(grades)/len(grades))"
   ],
   "outputs": [
    {
     "output_type": "stream",
     "name": "stdout",
     "text": [
      "Original average: 87.4\n",
      "Original Stdev: 5.0039984012787215\n",
      "Original Variance: 25.04\n",
      "Original Mean: 87.4\n",
      "----\n",
      "New Average 17.48\n",
      "New Stdev: 1.0007996802557442\n",
      "New Variance: 1.0015999999999998\n",
      "New mean: 17.48\n"
     ]
    }
   ],
   "metadata": {}
  },
  {
   "cell_type": "code",
   "execution_count": 62,
   "source": [
    "# ADDITION\n",
    "grades = [84, 86, 80, 78, 90, 92, 94, 91, 89, 90]\n",
    "\n",
    "print (\"Original average:\", sum(grades)/len(grades))\n",
    "print (\"Original Stdev:\", calc_std(grades))\n",
    "print (\"Original Variance:\", calc_var(grades))\n",
    "print (\"Original Mean:\", sum(grades)/len(grades))\n",
    "print (\"----\")\n",
    "fixed_amt = 5\n",
    "grades = [grade + fixed_amt for grade in grades]\n",
    "print (\"New Average\", sum(grades)/len(grades))\n",
    "print (\"New Stdev:\", calc_std(grades))\n",
    "print (\"New Variance:\", calc_var(grades))\n",
    "print (\"New mean:\", sum(grades)/len(grades))"
   ],
   "outputs": [
    {
     "output_type": "stream",
     "name": "stdout",
     "text": [
      "Original average: 87.4\n",
      "Original Stdev: 5.0039984012787215\n",
      "Original Variance: 25.04\n",
      "Original Mean: 87.4\n",
      "----\n",
      "New Average 92.4\n",
      "New Stdev: 5.0039984012787215\n",
      "New Variance: 25.04\n",
      "New mean: 92.4\n"
     ]
    }
   ],
   "metadata": {}
  },
  {
   "cell_type": "code",
   "execution_count": 64,
   "source": [
    "# SUBTRACTION\n",
    "grades = [84, 86, 80, 78, 90, 92, 94, 91, 89, 90]\n",
    "\n",
    "print (\"Original average:\", sum(grades)/len(grades))\n",
    "print (\"Original Stdev:\", calc_std(grades))\n",
    "print (\"Original Variance:\", calc_var(grades))\n",
    "print (\"Original Mean:\", sum(grades)/len(grades))\n",
    "print (\"----\")\n",
    "fixed_amt = 5\n",
    "grades = [grade - fixed_amt for grade in grades]\n",
    "print (\"New Average\", sum(grades)/len(grades))\n",
    "print (\"New Stdev:\", calc_std(grades))\n",
    "print (\"New Variance:\", calc_var(grades))\n",
    "print (\"New mean:\", sum(grades)/len(grades))"
   ],
   "outputs": [
    {
     "output_type": "stream",
     "name": "stdout",
     "text": [
      "Original average: 87.4\n",
      "Original Stdev: 5.0039984012787215\n",
      "Original Variance: 25.04\n",
      "Original Mean: 87.4\n",
      "----\n",
      "New Average 82.4\n",
      "New Stdev: 5.0039984012787215\n",
      "New Variance: 25.04\n",
      "New mean: 82.4\n"
     ]
    }
   ],
   "metadata": {}
  },
  {
   "cell_type": "markdown",
   "source": [
    "<h3>OBSERVATION</h3>\n",
    "The mean was multiplied by the factor and the standard deviation was multiplied by the factor!<br>\n",
    "Multiplying will spread the data which will increase the standard deviation.<br>"
   ],
   "metadata": {}
  },
  {
   "cell_type": "markdown",
   "source": [
    "<h2>Exercise 1 - HOMEWORK </h2><a id=\"6\"></a>\n",
    "We have captured the following grades for 4 students in a graduate level phD<br>\n",
    "chemistry program.  <br>\n",
    "<code>\n",
    "chemistry_grades = {'Hester': ['88','99','89','90','80','88','93','94','91','80'] ,\n",
    "                    'Walter': ['83','92','83','76','75','85','93','92','90','91'] ,\n",
    "                    'George': ['86','90','86','84','78','84','93','94','81','90'] ,\n",
    "                    'Susan':  ['81','94','80','79','74','94','93','92','94','98'] ,\n",
    "                    'Kathy':  ['78','89','70','99','81','85','93','97','96','92'] }\n",
    "</code>\n",
    "<br>\n",
    "1 - Calculate the mean and standard deviation of each exam?<br>\n",
    "2 - Calculate each students gpa?<br>\n",
    "3 - Which exam had the biggest range?<br>\n",
    "4 - Which exam had the lowest mean?  Add 10 points to the test score of each student<br>\n",
    "on that exam and recalulate the mean and standard deviation<br>"
   ],
   "metadata": {}
  },
  {
   "cell_type": "code",
   "execution_count": 1,
   "source": [
    "import math\n",
    "\n",
    "def calc_std(lst):\n",
    "    res = math.sqrt((sum([(y-(sum(lst)/len(lst)))**2 for y in lst]))/(len(lst)-1))\n",
    "    return res"
   ],
   "outputs": [],
   "metadata": {}
  },
  {
   "cell_type": "code",
   "execution_count": 26,
   "source": [
    "import statistics\n",
    "\n",
    "chemistry_grades = {'Hester': [88,99,89,90,80,88,93,94,91,80] ,\n",
    "                    'Walter': [83,92,83,76,75,85,93,92,90,91] ,\n",
    "                    'George': [86,90,86,84,78,84,93,94,81,90] ,\n",
    "                    'Susan':  [81,94,80,79,74,94,93,92,94,98] ,\n",
    "                    'Kathy':  [78,89,70,99,81,85,93,97,96,92] }\n",
    "\n",
    "list_grade = list(chemistry_grades.values())\n",
    "\n",
    "\n",
    "exam_range=[]\n",
    "exam_mean=[]\n",
    "print ('1 - Mean and Standard Deviation of each exam: ')\n",
    "\n",
    "def test (lst, index): \n",
    "    # Return the values of the dictionary 'chemistry_grades'\n",
    "    return [exam[index] for exam in lst]\n",
    "    \n",
    "for i in range (len(list_grade[0])):\n",
    "    # casting the string exmans values to a integer values\n",
    "    grades_exam = (list(map(int, test(list_grade, i))))\n",
    "    # exam_range would content the range (Point 3)\n",
    "    exam_range.append(max(grades_exam) - min(grades_exam))\n",
    "    # exam_mean would content the mean of the test (Point 4)\n",
    "    exam_mean.append(sum(grades_exam)/len(grades_exam)) \n",
    "    print ('Exam #', i+1, ': - Mean:',sum(grades_exam)/len(grades_exam)) \n",
    "    print ('           - Std:', calc_std(grades_exam))\n",
    "\n",
    "    "
   ],
   "outputs": [
    {
     "output_type": "stream",
     "name": "stdout",
     "text": [
      "1 - Mean and Standard Deviation of each exam: \n",
      "Exam # 1 : - Mean: 83.2\n",
      "           - Std: 3.96232255123179\n",
      "Exam # 2 : - Mean: 92.8\n",
      "           - Std: 3.9623225512317894\n",
      "Exam # 3 : - Mean: 81.6\n",
      "           - Std: 7.3006848993775915\n",
      "Exam # 4 : - Mean: 85.6\n",
      "           - Std: 9.181503144910424\n",
      "Exam # 5 : - Mean: 77.6\n",
      "           - Std: 3.049590136395381\n",
      "Exam # 6 : - Mean: 87.2\n",
      "           - Std: 4.08656334834051\n",
      "Exam # 7 : - Mean: 93.0\n",
      "           - Std: 0.0\n",
      "Exam # 8 : - Mean: 93.8\n",
      "           - Std: 2.0493901531919194\n",
      "Exam # 9 : - Mean: 90.4\n",
      "           - Std: 5.770615218501403\n",
      "Exam # 10 : - Mean: 90.2\n",
      "           - Std: 6.496152707564686\n"
     ]
    }
   ],
   "metadata": {}
  },
  {
   "cell_type": "code",
   "execution_count": 118,
   "source": [
    "# print ('2 - Students gpa:')\n",
    "# for i, grade in enumerate(list_grade):\n",
    "#     print ('Student #', i+1,'GPA:', sum(grade)/len(grade))\n"
   ],
   "outputs": [
    {
     "output_type": "stream",
     "name": "stdout",
     "text": [
      "2 - Students gpa:\n",
      "Student # 1 GPA: 89.2\n",
      "Student # 2 GPA: 86.0\n",
      "Student # 3 GPA: 86.6\n",
      "Student # 4 GPA: 87.9\n",
      "Student # 5 GPA: 88.0\n"
     ]
    }
   ],
   "metadata": {}
  },
  {
   "cell_type": "code",
   "execution_count": 3,
   "source": [
    "print ('2 - Students gpa:')\n",
    "[print ('Student #', i+1,'- GPA:', sum(grade)/len(grade)) for i, grade in enumerate(list_grade)]"
   ],
   "outputs": [
    {
     "output_type": "stream",
     "name": "stdout",
     "text": [
      "2 - Students gpa:\n",
      "Student # 1 - GPA: 89.2\n",
      "Student # 2 - GPA: 86.0\n",
      "Student # 3 - GPA: 86.6\n",
      "Student # 4 - GPA: 87.9\n",
      "Student # 5 - GPA: 88.0\n"
     ]
    },
    {
     "output_type": "execute_result",
     "data": {
      "text/plain": [
       "[None, None, None, None, None]"
      ]
     },
     "metadata": {},
     "execution_count": 3
    }
   ],
   "metadata": {}
  },
  {
   "cell_type": "code",
   "execution_count": 4,
   "source": [
    "print ('3 - Which exam had the biggest range?')\n",
    "# use max\n",
    "print ('Examen #', exam_range.index(max(exam_range)),'-  Range:', max(exam_range))"
   ],
   "outputs": [
    {
     "output_type": "stream",
     "name": "stdout",
     "text": [
      "3 - Which exam had the biggest range?\n",
      "Examen # 3 -  Range: 23\n"
     ]
    }
   ],
   "metadata": {}
  },
  {
   "cell_type": "code",
   "execution_count": 5,
   "source": [
    "print ('4 - Which exam had the lowest mean?')  \n",
    "# use min \n",
    "print('Exam #', exam_mean.index(min(exam_mean)), '- Mean: ', min(exam_mean))\n",
    "lowest_test_index = exam_mean.index(min(exam_mean))\n"
   ],
   "outputs": [
    {
     "output_type": "stream",
     "name": "stdout",
     "text": [
      "4 - Which exam had the lowest mean?\n",
      "Exam # 4 - Mean:  77.6\n"
     ]
    }
   ],
   "metadata": {}
  },
  {
   "cell_type": "code",
   "execution_count": 27,
   "source": [
    "print ('5 -Add 10 points to the test score of each student on that exam and recalulate the mean and standard deviation')\n",
    "print (list_grade)\n",
    "print ('-+-+-+-')\n",
    "\n",
    "for grade in list_grade:\n",
    "    print (grade)\n",
    "    # print ('----')\n",
    "    grade[lowest_test_index] = grade[lowest_test_index] + 10\n",
    "    print (grade)\n",
    "    print ('--------')\n",
    "\n",
    "    # print (grade[exam_mean.index(min(exam_mean))])\n",
    "\n",
    "# print (students_10)\n",
    "print ('-+-+-+-')\n",
    "\n",
    "print ('Mean:', sum(grade)/len(grade), 'Standard Deviation:', calc_std(grade))\n",
    "\n",
    "\n",
    "# print (sum(exam_mean)/len(exam_mean))"
   ],
   "outputs": [
    {
     "output_type": "stream",
     "name": "stdout",
     "text": [
      "5 -Add 10 points to the test score of each student on that exam and recalulate the mean and standard deviation\n",
      "[[88, 99, 89, 90, 80, 88, 93, 94, 91, 80], [83, 92, 83, 76, 75, 85, 93, 92, 90, 91], [86, 90, 86, 84, 78, 84, 93, 94, 81, 90], [81, 94, 80, 79, 74, 94, 93, 92, 94, 98], [78, 89, 70, 99, 81, 85, 93, 97, 96, 92]]\n",
      "-+-+-+-\n",
      "[88, 99, 89, 90, 80, 88, 93, 94, 91, 80]\n",
      "[88, 99, 89, 90, 90, 88, 93, 94, 91, 80]\n",
      "--------\n",
      "[83, 92, 83, 76, 75, 85, 93, 92, 90, 91]\n",
      "[83, 92, 83, 76, 85, 85, 93, 92, 90, 91]\n",
      "--------\n",
      "[86, 90, 86, 84, 78, 84, 93, 94, 81, 90]\n",
      "[86, 90, 86, 84, 88, 84, 93, 94, 81, 90]\n",
      "--------\n",
      "[81, 94, 80, 79, 74, 94, 93, 92, 94, 98]\n",
      "[81, 94, 80, 79, 84, 94, 93, 92, 94, 98]\n",
      "--------\n",
      "[78, 89, 70, 99, 81, 85, 93, 97, 96, 92]\n",
      "[78, 89, 70, 99, 91, 85, 93, 97, 96, 92]\n",
      "--------\n",
      "-+-+-+-\n",
      "Mean: 89.0 Standard Deviation: 9.067647005823629\n"
     ]
    }
   ],
   "metadata": {}
  },
  {
   "cell_type": "code",
   "execution_count": 134,
   "source": [
    "def calc_std(lst):\n",
    "    x = [x - (sum(grades)/len(grades)) for x in lst]\n",
    "    res = math.sqrt((sum([y**2 for y in x]))/len(lst))\n",
    "    return res\n",
    "    \n",
    "chemistry_grades = {'Hester': [88,99,89,90,80,88,93,94,91,80] ,\n",
    "                    'Walter': [83,92,83,76,75,85,93,92,90,91] ,\n",
    "                    'George': [86,90,86,84,78,84,93,94,81,90] ,\n",
    "                    'Susan':  [81,94,80,79,74,94,93,92,94,98] ,\n",
    "                    'Kathy':  [78,89,70,99,81,85,93,97,96,92] }\n",
    "\n",
    "list_grade = list(chemistry_grades.values())\n",
    "\n",
    "def test (lst, index):\n",
    "    return [exam[index-1] for exam in lst]\n",
    "exam_range=[]\n",
    "exam_mean=[]\n",
    "for i in range (len(list_grade[0])):\n",
    "    a_list = test(list_grade, i)\n",
    "    int_value = map(int, a_list)\n",
    "    grades_exam = (list(int_value))\n",
    "    exam_range.append(max(grades_exam) - min(grades_exam))\n",
    "    exam_mean.append(sum(grades_exam)/len(grades_exam))\n",
    "    print ('Mean:',sum(grades_exam)/len(grades_exam), 'Std:', calc_std(grades_exam))\n",
    "\n",
    "print ('----')\n",
    "\n",
    "for grade in (list_grade):\n",
    "    print ('GPA:', sum(grade)/len(grade))\n",
    "\n",
    "\n",
    "print ('----')\n",
    "print ('Examen #', exam_range.index(max(exam_range)), ':', max(exam_range))\n",
    "\n",
    "\n",
    "print ('----')\n",
    "exam_mean[exam_mean.index(min(exam_mean))] = min(exam_mean) + 10\n",
    "print (sum(exam_mean)/len(exam_mean))"
   ],
   "outputs": [
    {
     "output_type": "stream",
     "name": "stdout",
     "text": [
      "Mean: 90.2 Std: 72.95175391997097\n",
      "Mean: 83.2 Std: 65.81548753902837\n",
      "Mean: 92.8 Std: 75.40333149138704\n",
      "Mean: 81.6 Std: 64.4516438890429\n",
      "Mean: 85.6 Std: 68.61322321535405\n",
      "Mean: 77.6 Std: 60.18184443833538\n",
      "Mean: 87.2 Std: 69.81574607493641\n",
      "Mean: 93.0 Std: 75.52\n",
      "Mean: 93.8 Std: 76.34200940504513\n",
      "Mean: 90.4 Std: 73.10243771585185\n",
      "----\n",
      "GPA: 89.2\n",
      "GPA: 86.0\n",
      "GPA: 86.6\n",
      "GPA: 87.9\n",
      "GPA: 88.0\n",
      "----\n",
      "Examen # 4 : 23\n",
      "----\n",
      "88.53999999999999\n"
     ]
    }
   ],
   "metadata": {}
  },
  {
   "cell_type": "markdown",
   "source": [
    "<h2>Exercise 2 - *** HOMEWORK OVER A WEEKEND***</h2><a id=\"8\"></a>"
   ],
   "metadata": {}
  },
  {
   "cell_type": "markdown",
   "source": [
    "You are a data scientist in the bio chemical division of a large pharmaceutical company<br>\n",
    "trying to find a method to break a gene strand by using a matching protein<br>\n",
    "<code>\n",
    "protein_strand = '''ACACGTGTCAGTTGTGCAGTACACGTACGTCAGTCAACTGTGACCAGTTGGTCAGT\n",
    "    CAACCAACGTCAGTCAACTGACCACAGTGTCATGACACGTACGT'''\n",
    "</code>\n",
    "<br>\n",
    "1 - How many times does the sequence 'AGTC' appear in the protein_strand?<br>\n",
    "2 - The sequence 'CAACTGGT' will split the strand when matched against its opposite<br>\n",
    "    List all remaining pieces after the split. <br>\n",
    "3 - Group all character in groups of 4 and output how many times each sequence appears <br>\n",
    "4 - Which group of 4 appears the most?\n",
    "<br>\n",
    "<br>\n",
    "HINT: 'A' only pairs with 'C' and 'G' only pairs with 'T'<br>"
   ],
   "metadata": {}
  },
  {
   "cell_type": "code",
   "execution_count": 14,
   "source": [
    "protein_strand = 'ACACGTGTCAGTTGTGCAGTACACGTACGTCAGTCAACTGTGACCAGTTGGTCAGTCAACCAACGTCAGTCAACTGACCACAGTGTCATGACACGTACGT'\n",
    "sequence = 'AGTC'\n",
    "\n",
    "print (\"1 - The sequence 'AGTC' appear in the protein_strand:\", protein_strand.count(sequence), \"times\")\n"
   ],
   "outputs": [
    {
     "output_type": "stream",
     "name": "stdout",
     "text": [
      "1 - The sequence 'AGTC' appear in the protein_strand: 3 times\n"
     ]
    }
   ],
   "metadata": {}
  },
  {
   "cell_type": "code",
   "execution_count": 59,
   "source": [
    "print (\"2 - The sequence 'CAACTGGT' will split the strand when matched against its opposite. List all remaining pieces after the split.\")\n",
    "break_sequence = 'CAACTGGT'\n",
    "# Iterate over the list of break_sequence and replace the pair A <=> C, G <=> T \n",
    "opposite_sequence = \"\".join([\"C\" if i=='A' else \"A\" if i=='C' else \"G\" if i=='T' else \"T\" for i in list(break_sequence)])\n",
    "print ('Remaining pieces after the split:', protein_strand.split(opposite_sequence))\n"
   ],
   "outputs": [
    {
     "output_type": "stream",
     "name": "stdout",
     "text": [
      "2 - The sequence 'CAACTGGT' will split the strand when matched against its opposite. List all remaining pieces after the split.\n",
      "Remaining pieces after the split: ['ACACGTGTCAGTTGTGCAGTACACGTACGTCAGTCAACTGTG', 'GTCAGTCAACCAACGTCAGTCAACTGACCACAGTGTCATGACACGTACGT']\n"
     ]
    }
   ],
   "metadata": {}
  },
  {
   "cell_type": "code",
   "execution_count": 91,
   "source": [
    "print('3 - Group all character in groups of 4 and output how many times each sequence appears')\n",
    "# print (protein_strand)\n",
    "groups_4 = [protein_strand[i:4+i] for i in range(len(protein_strand)) if (len(protein_strand[0+i:4+i]) == 4)]\n",
    "# print (groups_4)\n",
    "dict_groups = {}\n",
    "for i in groups_4:\n",
    "    dict_groups[i] = groups_4.count(i)\n",
    "print (dict_groups)\n"
   ],
   "outputs": [
    {
     "output_type": "stream",
     "name": "stdout",
     "text": [
      "3 - Group all character in groups of 4 and output how many times each sequence appears\n",
      "{'ACAC': 3, 'CACG': 3, 'ACGT': 6, 'CGTG': 1, 'GTGT': 2, 'TGTC': 2, 'GTCA': 8, 'TCAG': 4, 'CAGT': 7, 'AGTT': 2, 'GTTG': 2, 'TTGT': 1, 'TGTG': 2, 'GTGC': 1, 'TGCA': 1, 'GCAG': 1, 'AGTA': 1, 'GTAC': 3, 'TACA': 1, 'CGTA': 2, 'TACG': 2, 'CGTC': 2, 'AGTC': 3, 'TCAA': 3, 'CAAC': 4, 'AACT': 2, 'ACTG': 2, 'CTGT': 1, 'GTGA': 1, 'TGAC': 3, 'GACC': 2, 'ACCA': 3, 'CCAG': 1, 'TTGG': 1, 'TGGT': 1, 'GGTC': 1, 'AACC': 1, 'CCAA': 1, 'AACG': 1, 'CTGA': 1, 'CCAC': 1, 'CACA': 1, 'ACAG': 1, 'AGTG': 1, 'TCAT': 1, 'CATG': 1, 'ATGA': 1, 'GACA': 1}\n"
     ]
    }
   ],
   "metadata": {}
  },
  {
   "cell_type": "code",
   "execution_count": 90,
   "source": [
    "print('4 - Which group of 4 appears the most?')\n",
    "print ('Group', [seq for seq,number in dict_groups.items() if number==max(dict_groups.values())], 'appears', max(dict_groups.values()))\n"
   ],
   "outputs": [
    {
     "output_type": "stream",
     "name": "stdout",
     "text": [
      "4 - Which group of 4 appears the most?\n",
      "Group ['GTCA'] appears 8\n"
     ]
    }
   ],
   "metadata": {}
  },
  {
   "cell_type": "markdown",
   "source": [
    "<h2>Exercise 3</h2><a id=\"10\"></a>"
   ],
   "metadata": {}
  },
  {
   "cell_type": "markdown",
   "source": [
    "Write code to return all numbers between 2000 and 2751 divisible by both 7 and 5 "
   ],
   "metadata": {}
  },
  {
   "cell_type": "code",
   "execution_count": null,
   "source": [],
   "outputs": [],
   "metadata": {}
  },
  {
   "cell_type": "markdown",
   "source": [
    "This notebook is part of a course at www.codeimmersives.com called Data Science. If you accessed this notebook outside the course, you can get more information about this course online by clicking here."
   ],
   "metadata": {}
  },
  {
   "cell_type": "markdown",
   "source": [
    "<hr>\n",
    "\n",
    "Copyright &copy; 2021  Code Immersives"
   ],
   "metadata": {}
  }
 ],
 "metadata": {
  "kernelspec": {
   "name": "python3",
   "display_name": "Python 3.9.7 64-bit"
  },
  "language_info": {
   "codemirror_mode": {
    "name": "ipython",
    "version": 3
   },
   "file_extension": ".py",
   "mimetype": "text/x-python",
   "name": "python",
   "nbconvert_exporter": "python",
   "pygments_lexer": "ipython3",
   "version": "3.9.7"
  },
  "interpreter": {
   "hash": "aee8b7b246df8f9039afb4144a1f6fd8d2ca17a180786b69acc140d282b71a49"
  }
 },
 "nbformat": 4,
 "nbformat_minor": 4
}