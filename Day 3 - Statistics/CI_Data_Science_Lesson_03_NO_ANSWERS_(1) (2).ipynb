{
  "cells": [
    {
      "cell_type": "markdown",
      "source": [
        "<a href=\"https://codeimmersives.com\"><img src = \"https://www.codeimmersives.com/wp-content/uploads/2019/09/CodeImmersives_Logo_RGB_NYC_BW.png\" width = 400> </a>\n",
        "\n",
        "\n",
        "<h1 align=center><font size = 5>Agenda</font></h1>"
      ],
      "metadata": {
        "id": "WnBWxaAHVie2"
      }
    },
    {
      "cell_type": "markdown",
      "source": [
        "### \n",
        "<div class=\"alert alert-block alert-info\" style=\"margin-top: 20px\">\n",
        "\n",
        "1.  [Review](#0)<br>\n",
        "2.  [Skewness](#2)<br> \n",
        "3.  [Kutosis](#4)<br>    \n",
        "4.  [Aggregating Data](#6)<br> \n",
        "5.  [Quartiles](#8)<br>   \n",
        "6.  [Deciles](#10)<br>     \n",
        "7.  [Exercise 1](#12)<br> \n",
        "8.  [Exercise 2](#14)<br>\n",
        "9.  [Exercise 3](#16)<br>    \n",
        "</div>\n",
        "<hr>"
      ],
      "metadata": {
        "id": "vlSwU3s3Vie5"
      }
    },
    {
      "cell_type": "markdown",
      "source": [
        "<h2>Review</h2><a id=\"0\"></a>"
      ],
      "metadata": {
        "id": "NxNV7X1_Vie6"
      }
    },
    {
      "cell_type": "markdown",
      "source": [
        "<h2>Exercise</h2>\n",
        "You have the following dictionary that contains sales data.<br>\n",
        "<code>\n",
        "sales = {'Jan': 150, 'Feb':200, 'Mar': 175,\n",
        "        'April': 75, 'May': 80, 'Jun': 300,\n",
        "        'July': 250, 'August':130, 'September': 195,\n",
        "        'October': 75, 'November': 120, 'December': 400}\n",
        "</code>\n",
        "<br>\n",
        "Answer the following:<br>\n",
        "1 - List the months where sales are greater than or equal to 150<br>\n",
        "2 - Return a tuple of all months and sales amounts greater than or equal to 300<br>\n",
        "3 - List all 3 consecutive month periods where sales are below 500<br>\n",
        "4 - Include the total sales amount for answer 3"
      ],
      "metadata": {
        "id": "u-ULB846Vie7"
      }
    },
    {
      "cell_type": "markdown",
      "source": [
        "<h4>Solution</h4>"
      ],
      "metadata": {
        "id": "w3_nnFmTVie7"
      }
    },
    {
      "cell_type": "code",
      "execution_count": 166,
      "source": [
        "sales = {'Jan': 150, 'Feb':200, 'Mar': 175, 'April': 75, 'May': 80, 'Jun': 300, 'July': 250, 'August':130, 'September': 195, 'October': 75, 'November': 120, 'December': 400}\n",
        "# print (sales)\n",
        "# print (')\n",
        "print ('1 - Months where sales are greater than or equal to 150:\\n', [key for key, value in sales.items() if value >= 150])\n",
        "# 2 - Return a tuple of all months and sales amounts greater than or equal to 300<br>\n",
        "print ('2 - Tuple of all months and sales amounts greater than or equal to 300: \\n', [(key,value) for key, value in sales.items() if value >= 300])\n",
        "print ('3 / 4 - List all 3 consecutive month periods where sales are below 500:')\n",
        "month_abbr, sale_abbr = list(sales.keys()), list(sales.values())\n",
        "[print ('       - Months:', month_abbr[i-2], month_abbr[i-1], month_abbr[i], '\\n Total Sales:', sale_abbr[i-2]+sale_abbr[i-1]+sale_abbr[i]) for i in range(2,len(sale_abbr)) if (sale_abbr[i-2]+sale_abbr[i-1]+sale_abbr[i] < 500)]\n"
      ],
      "outputs": [
        {
          "output_type": "stream",
          "name": "stdout",
          "text": [
            "1 - Months where sales are greater than or equal to 150:\n",
            " ['Jan', 'Feb', 'Mar', 'Jun', 'July', 'September', 'December']\n",
            "2 - Tuple of all months and sales amounts greater than or equal to 300: \n",
            " [('Jun', 300), ('December', 400)]\n",
            "3 / 4 - List all 3 consecutive month periods where sales are below 500\n",
            "       - Months: Feb Mar April \n",
            "         Total Sales: 450\n",
            "       - Months: Mar April May \n",
            "         Total Sales: 330\n",
            "       - Months: April May Jun \n",
            "         Total Sales: 455\n",
            "       - Months: August September October \n",
            "         Total Sales: 400\n",
            "       - Months: September October November \n",
            "         Total Sales: 390\n"
          ]
        },
        {
          "output_type": "execute_result",
          "data": {
            "text/plain": [
              "[None, None, None, None, None]"
            ]
          },
          "metadata": {},
          "execution_count": 166
        }
      ],
      "metadata": {
        "id": "dNVHsxJeVie8"
      }
    },
    {
      "cell_type": "markdown",
      "source": [
        "<h2>Exercise</h2>\n",
        "<code>\n",
        "stock_price = [23.5, 24.1, 22.7, 24.2, 25.2, 28.4, 27.8, 26.5, 27.5, 28.2]\n",
        "</code>\n",
        "<br>\n",
        "1 - Calculate the mean stock price<br>\n",
        "2 - Count the number of times the stock price was greater than 25<br>\n",
        "3 - Calculate the daily rate of return for the series<br>\n",
        "NOTE: rate of return is ((current price-previous price)/previous_price) * 100<br>\n",
        "Example: price was 100 next day 105 then ((105-100)/100)*100 = 5% gain<br>\n",
        "4 - How many days was the price up 3% or down 3% from the previous day?<br>\n"
      ],
      "metadata": {
        "id": "yMUzQenuVie-"
      }
    },
    {
      "cell_type": "markdown",
      "source": [
        "<h4>Solution</h4>"
      ],
      "metadata": {
        "id": "JP8BF2NVVie_"
      }
    },
    {
      "cell_type": "code",
      "execution_count": 178,
      "source": [
        "stock_price = [23.5, 24.1, 22.7, 24.2, 25.2, 28.4, 27.8, 26.5, 27.5, 28.2]\n",
        "\n",
        "print ('1 - Mean stock price:', round(sum (stock_price)/ len(stock_price),2))\n",
        "print ('2 - ', len([i for i in stock_price if i > 25]), 'times the stock price was greater than 25')\n",
        "print ('3 - Calculate the daily rate of return for the series')\n",
        "# Rate of return ((current price-previous price)/previous_price) * 100\n",
        "print ([round(((stock_price[i] - stock_price[i-1])/stock_price[i-1])*100, 2) for i in range(1,len(stock_price))])\n",
        "print ('4 - How many days was the price up 3% or down 3% from the previous day?')\n",
        "up_3 = [True if ((stock_price[i] - stock_price[i-1])/stock_price[i-1])*100 >= 3 else False for i in range(1,len(stock_price))]\n",
        "print ('The price up or igual to 3%:', up_3.count(True), 'times.')\n",
        "print ('The price down 3%:', up_3.count(True), 'times.')\n",
        "\n"
      ],
      "outputs": [
        {
          "output_type": "stream",
          "name": "stdout",
          "text": [
            "1 - Mean stock price: 25.81\n",
            "2 -  6 times the stock price was greater than 25\n",
            "3 - Calculate the daily rate of return for the series\n",
            "[2.55, -5.81, 6.61, 4.13, 12.7, -2.11, -4.68, 3.77, 2.55]\n",
            "4 - How many days was the price up 3% or down 3% from the previous day?\n",
            "The price up or igual to 3%: 4 times.\n",
            "The price down 3%: 4 times.\n"
          ]
        }
      ],
      "metadata": {
        "id": "dvoM4Vy8VifA"
      }
    },
    {
      "cell_type": "code",
      "execution_count": 188,
      "source": [
        "ror = [round(((stock_price[i]-stock_price[i-1])/stock_price[i-1])*100,2) for i in range(1,len(stock_price)) ]\n",
        "\n",
        "print('='*35)\n",
        "ror_cnt = sum([1 for i in ror if abs(i) > 3 ])\n",
        "print(f'The daily rate of return was up or down, {ror_cnt} time(s)')"
      ],
      "outputs": [
        {
          "output_type": "stream",
          "name": "stdout",
          "text": [
            "===================================\n",
            "The daily rate of return was up or down, 4 time(s)\n"
          ]
        }
      ],
      "metadata": {}
    },
    {
      "cell_type": "markdown",
      "source": [
        "<h2>Skewness</h2>\n",
        "Skewness is a measure of symetry, or better the lack of symetry.<br>\n",
        "A distribution of data set is symetric if it looks the same on the left and right side of the mean.<br>\n",
        "We aggregate the data and use a histogram to visualize if the distribution is normal.<br>\n",
        "<br>\n",
        "The skewness formula is as follows:<br>\n",
        "Fisher-Pearson coefficient<br>\n",
        "<br>\n",
        "$\\sum_{i=1}^{n} ((X_i - mean)^3$/n)/$s^3$<br><br>\n",
        "We can also use the formula for the adjusted Fisher-Pearson coefficient of skewness<br>\n",
        "<br>\n",
        "$\\sqrt N(N-1)/(N-2)$ $\\sum_{i=1}^{n} ((X_i - mean)^3$/n)/$s^3$<br><br>\n",
        "As the size of our sample goes up the first part of the equations coverges to 1<br>\n",
        "<br>\n",
        "The skewness of a nomal distribution is 0<br>"
      ],
      "metadata": {
        "id": "6QJ_j_8zVifA"
      }
    },
    {
      "cell_type": "markdown",
      "source": [
        "1) Calculate the mean\n",
        "2) Subtract the mean from each element\n",
        "3) Sum the differences\n",
        "4) Cube the differences\n",
        "5) Divide by the list size and STD cubed\n",
        "6) Return Skewness"
      ],
      "metadata": {}
    },
    {
      "cell_type": "code",
      "execution_count": 179,
      "source": [
        "import statistics\n",
        "stock_price = [23.5, 24.1, 22.7, 24.2, 25.2, 28.4, 27.8, 26.5, 27.5, 28.2]\n",
        "\n",
        "#     sustraction_lst.append(i-sum(lst)/len(lst))\n",
        "def cal_skew(lst):\n",
        "    lst.sort()\n",
        "    skew = sum([((i-(sum(lst)/len(lst)))**3) for i in lst])/len(lst) \n",
        "    return round((skew/(statistics.stdev(lst))**3),2)\n",
        "def cal_Kurtosis(lst):\n",
        "    lst.sort()\n",
        "    kustosis = sum([((i-(sum(lst)/len(lst)))**4) for i in lst])/len(lst) \n",
        "    return round((kustosis/(statistics.stdev(lst))**4),2)\n",
        "def cal_Kurtosis_excess(lst):\n",
        "    lst.sort()\n",
        "    kust = sum([((i-(sum(lst)/len(lst)))**4) for i in lst])/len(lst) \n",
        "    return round(((kust/(statistics.stdev(lst))**4)-3),2)\n",
        "\n",
        "print ('Skewness:', cal_skew(stock_price))\n",
        "\n",
        "print ('Kurtosis regular:',cal_Kurtosis(stock_price))\n",
        "print ('Kurtosis excess',cal_Kurtosis_excess(stock_price))"
      ],
      "outputs": [
        {
          "output_type": "stream",
          "name": "stdout",
          "text": [
            "Skewness: -0.08\n",
            "Kurtosis regular: 1.17\n",
            "Kurtosis excess -1.83\n"
          ]
        }
      ],
      "metadata": {}
    },
    {
      "cell_type": "markdown",
      "source": [
        "<h2>Kurtosis</h2>\n",
        "The kurtosis for a standard normal distribution is three. <br>\n",
        "The formula for excess kutosis is:<br>\n",
        "<br>\n",
        "$\\sum_{i=1}^{n} ((X_i - mean)^4$/n)/$s^4$ -3 \n",
        "<br><br>\n",
        "This definition is used so that the standard normal distribution has a kurtosis of zero. <br>\n",
        "In addition, with the second definition positive kurtosis indicates a \"heavy-tailed\" distribution <br>\n",
        "and negative kurtosis indicates a \"light tailed\" distribution.<br>\n",
        "<br>\n",
        "Which definition of kurtosis is used is a matter of convention. <br>\n",
        "When using software to compute the sample kurtosis, you need to be aware of which convention <br>\n",
        "is being followed. Many sources use the term kurtosis when they are actually computing \"excess kurtosis\", <br>\n",
        "so it may not always be clear. <br>"
      ],
      "metadata": {
        "id": "m-LDhbQVVifB"
      }
    },
    {
      "cell_type": "code",
      "execution_count": 184,
      "source": [
        "def cal_Kurtosis(lst):\n",
        "    lst.sort()\n",
        "    kustosis = sum([((i-(sum(lst)/len(lst)))**4) for i in lst])/len(lst) \n",
        "    return round((kustosis/(statistics.stdev(lst))**4),2)\n",
        "def cal_Kurtosis_excess(lst):\n",
        "    lst.sort()\n",
        "    kust = sum([((i-(sum(lst)/len(lst)))**4) for i in lst])/len(lst) \n",
        "    return round(((kust/(statistics.stdev(lst))**4)-3),2)\n",
        "\n",
        "\n",
        "print ('Kurtosis regular:',cal_Kurtosis(stock_price))\n",
        "print ('Kurtosis excess',cal_Kurtosis_excess(stock_price))"
      ],
      "outputs": [
        {
          "output_type": "stream",
          "name": "stdout",
          "text": [
            "Kurtosis regular: 1.17\n",
            "Kurtosis excess -1.83\n"
          ]
        }
      ],
      "metadata": {}
    },
    {
      "cell_type": "markdown",
      "source": [
        "<h2>Exercise</h2>\n",
        "Calculate the skewness of our original grades file.<br>\n",
        "Calculate the skewness of our original grades file.<br>\n",
        "Calculate the excess kurtosis of our data set>br>\n",
        "<code>\n",
        "grades = [68.0, 90.0, 69.0, 86.0, 78.0, 97.0, 95.0, 83.0, 84.0, 74.0, 84.0, 71.0, 79.0, 82.0, 79.0, 69.0, 99.0, 93.0, \n",
        " 77.0, 77.0, 75.0, 83.0, 86.0, 89.0, 76.0, 88.0, 65.0, 65.0, 78.0, 77.0, 82.0, 97.0, 87.0, 83.0, 67.0, 83.0, \n",
        " 67.0, 77.0, 79.0, 79.0, 68.0, 69.0, 89.0, 79.0, 66.0, 85.0, 93.0, 74.0, 70.0, 83.0, 90.0, 75.0, 94.0, 77.0, \n",
        " 92.0, 84.0, 93.0, 83.0, 79.0, 87.0, 62.0, 85.0, 99.0, 76.0, 96.0, 89.0, 66.0, 85.0, 70.0, 83.0, 77.0, 96.0, \n",
        " 92.0, 76.0, 95.0, 84.0, 74.0, 83.0, 83.0, 89.0, 81.0, 91.0, 83.0, 74.0, 93.0, 73.0, 73.0, 84.0, 84.0, 83.0, \n",
        " 91.0, 68.0, 88.0, 72.0, 84.0, 93.0, 86.0, 83.0, 83.0, 77.0]\n",
        "</code>\n"
      ],
      "metadata": {
        "id": "8W2KYbU8VifB"
      }
    },
    {
      "cell_type": "markdown",
      "source": [
        "<h4>Solution</h4>"
      ],
      "metadata": {
        "id": "akFOYpKXVifB"
      }
    },
    {
      "cell_type": "code",
      "execution_count": 186,
      "source": [
        "grades = [68.0, 90.0, 69.0, 86.0, 78.0, 97.0, 95.0, 83.0, 84.0, 74.0, 84.0, 71.0, 79.0, 82.0, 79.0, 69.0, 99.0, 93.0, \n",
        " 77.0, 77.0, 75.0, 83.0, 86.0, 89.0, 76.0, 88.0, 65.0, 65.0, 78.0, 77.0, 82.0, 97.0, 87.0, 83.0, 67.0, 83.0, \n",
        " 67.0, 77.0, 79.0, 79.0, 68.0, 69.0, 89.0, 79.0, 66.0, 85.0, 93.0, 74.0, 70.0, 83.0, 90.0, 75.0, 94.0, 77.0, \n",
        " 92.0, 84.0, 93.0, 83.0, 79.0, 87.0, 62.0, 85.0, 99.0, 76.0, 96.0, 89.0, 66.0, 85.0, 70.0, 83.0, 77.0, 96.0, \n",
        " 92.0, 76.0, 95.0, 84.0, 74.0, 83.0, 83.0, 89.0, 81.0, 91.0, 83.0, 74.0, 93.0, 73.0, 73.0, 84.0, 84.0, 83.0, \n",
        " 91.0, 68.0, 88.0, 72.0, 84.0, 93.0, 86.0, 83.0, 83.0, 77.0]\n",
        "\n",
        "print ('Skewness:', cal_skew(grades))\n",
        "\n",
        "print ('Kurtosis regular:',cal_Kurtosis(grades))\n",
        "print ('Kurtosis excess',cal_Kurtosis_excess(grades))"
      ],
      "outputs": [
        {
          "output_type": "stream",
          "name": "stdout",
          "text": [
            "Skewness: -0.09\n",
            "Kurtosis regular: 2.23\n",
            "Kurtosis excess -0.77\n"
          ]
        }
      ],
      "metadata": {
        "id": "Vou0VBi1VifC"
      }
    },
    {
      "cell_type": "markdown",
      "source": [
        "<h2>Aggregating Data</h2>\n",
        "To visualize the 100 grade values the chart would look crowded<br>\n",
        "Let's chart the data now.<br>"
      ],
      "metadata": {
        "id": "m2cgkiQ1VifC"
      }
    },
    {
      "cell_type": "code",
      "execution_count": null,
      "source": [
        "import matplotlib.pyplot as plt\n",
        "\n",
        "grades = [68.0, 90.0, 69.0, 86.0, 78.0, 97.0, 95.0, 83.0, 84.0, 74.0, 84.0, 71.0, 79.0, 82.0, 79.0, 69.0, 99.0, 93.0, \n",
        " 77.0, 77.0, 75.0, 83.0, 86.0, 89.0, 76.0, 88.0, 65.0, 65.0, 78.0, 77.0, 82.0, 97.0, 87.0, 83.0, 67.0, 83.0, \n",
        " 67.0, 77.0, 79.0, 79.0, 68.0, 69.0, 89.0, 79.0, 66.0, 85.0, 93.0, 74.0, 70.0, 83.0, 90.0, 75.0, 94.0, 77.0, \n",
        " 92.0, 84.0, 93.0, 83.0, 79.0, 87.0, 62.0, 85.0, 99.0, 76.0, 96.0, 89.0, 66.0, 85.0, 70.0, 83.0, 77.0, 96.0, \n",
        " 92.0, 76.0, 95.0, 84.0, 74.0, 83.0, 83.0, 89.0, 81.0, 91.0, 83.0, 74.0, 93.0, 73.0, 73.0, 84.0, 84.0, 83.0, \n",
        " 91.0, 68.0, 88.0, 72.0, 84.0, 93.0, 86.0, 83.0, 83.0, 77.0]\n",
        "xAxis = range(1,len(grades)+1)\n",
        "plt.bar(xAxis,grades)\n",
        "plt.title('student grades')\n",
        "plt.xlabel('exam')\n",
        "plt.ylabel('score')\n",
        "plt.show()"
      ],
      "outputs": [],
      "metadata": {
        "id": "Z5j3BgzAVifD"
      }
    },
    {
      "cell_type": "code",
      "execution_count": null,
      "source": [
        "import matplotlib.pyplot as plt\n",
        "import math\n",
        "grades = [68.0, 90.0, 69.0, 86.0, 78.0, 97.0, 95.0, 83.0, 84.0, 74.0, 84.0, 71.0, 79.0, 82.0, 79.0, 69.0, 99.0, 93.0,\n",
        " 77.0, 77.0, 75.0, 83.0, 86.0, 89.0, 76.0, 88.0, 65.0, 65.0, 78.0, 77.0, 82.0, 97.0, 87.0, 83.0, 67.0, 83.0,\n",
        " 67.0, 77.0, 79.0, 79.0, 68.0, 69.0, 89.0, 79.0, 66.0, 85.0, 93.0, 74.0, 70.0, 83.0, 90.0, 75.0, 94.0, 77.0,\n",
        " 92.0, 84.0, 93.0, 83.0, 79.0, 87.0, 62.0, 85.0, 99.0, 76.0, 96.0, 89.0, 66.0, 85.0, 70.0, 83.0, 77.0, 96.0,\n",
        " 92.0, 76.0, 95.0, 84.0, 74.0, 83.0, 83.0, 89.0, 81.0, 91.0, 83.0, 74.0, 93.0, 73.0, 73.0, 84.0, 84.0, 83.0,\n",
        " 91.0, 68.0, 88.0, 72.0, 84.0, 93.0, 86.0, 83.0, 83.0, 77.0]\n",
        "#create boundaries\n",
        "interval = math.ceil((max(grades)-min(grades))/10)\n",
        "deciles = {1:[],2:[],3:[],4:[],5:[],6:[],7:[],8:[],9:[],10:[]}\n",
        "val = 0\n",
        "min_grade = min(grades)\n",
        "grade_dist = []\n",
        "for k,v in deciles.items():\n",
        "        beg = min_grade+(interval*int(k-1))\n",
        "        end = min_grade + interval*int(k)\n",
        "        deciles[k] = [beg,end]\n",
        "        sum_int = sum([1 for x in grades if x>= beg and x< end])\n",
        "        grade_dist.append(sum_int)\n",
        "print(deciles)\n",
        "print(grade_dist)\n",
        "xAxis = range(1,11)\n",
        "plt.bar(xAxis,grade_dist)\n",
        "plt.title('Frequency distribution')\n",
        "plt.xlabel('exam')\n",
        "plt.ylabel('score')\n",
        "plt.show()"
      ],
      "outputs": [],
      "metadata": {}
    },
    {
      "cell_type": "markdown",
      "source": [
        "We notice that the grades data is crowded.  We need to add meaning to <br>\n",
        "the visualization of this data.  We do this by aggregating the data.<br>\n",
        "<br>"
      ],
      "metadata": {
        "id": "xXXESTzAVifD"
      }
    },
    {
      "cell_type": "markdown",
      "source": [
        "<h2>Exercise</h2>\n",
        "If we have a group of numbers from 0 to 20 how can we set the boundaries <br>\n",
        "For creating a frequency distribution histogram in qurtiles<br>"
      ],
      "metadata": {
        "id": "_Vb0x4ZhVifD"
      }
    },
    {
      "cell_type": "code",
      "execution_count": 190,
      "source": [
        "import math\n",
        "#create quartiles\n",
        "interval = math.ceil(20/4)\n",
        "quartiles = {1:[],2:[],3:[],4:[]}\n",
        "val = 0\n",
        "for k,v in quartiles.items():\n",
        "        quartiles[k] = [val+(interval*int(k-1)),val + interval*int(k)]\n",
        "\n",
        "\n",
        "print(quartiles)"
      ],
      "outputs": [
        {
          "output_type": "stream",
          "name": "stdout",
          "text": [
            "{1: [0, 5], 2: [5, 10], 3: [10, 15], 4: [15, 20]}\n"
          ]
        }
      ],
      "metadata": {
        "id": "b4Kl2pUdVifD"
      }
    },
    {
      "cell_type": "code",
      "execution_count": 195,
      "source": [
        "import math\n",
        "\n",
        "def calc_quartiles(beg, end):\n",
        "    interval = math.ceil((end-beg)/4)\n",
        "    deciles = {1:[],2:[],3:[],4:[]}\n",
        "    val = 0\n",
        "    for k,v in deciles.items():\n",
        "        quartiles[k] = [val+(interval*int(k-1)),val + interval*int(k)]\n",
        "    return quartiles\n",
        "\n",
        "calc_quartiles(0, 20)"
      ],
      "outputs": [
        {
          "output_type": "execute_result",
          "data": {
            "text/plain": [
              "{1: [0, 5], 2: [5, 10], 3: [10, 15], 4: [15, 20]}"
            ]
          },
          "metadata": {},
          "execution_count": 195
        }
      ],
      "metadata": {}
    },
    {
      "cell_type": "markdown",
      "source": [
        "<h4>Deciles</h4>\n",
        "Break the data set into 10 equal parts and chart the number of items that<br>\n",
        "fall within each boundary."
      ],
      "metadata": {
        "id": "BWtBLjxdVifE"
      }
    },
    {
      "cell_type": "code",
      "execution_count": 189,
      "source": [
        "import math\n",
        "#create deciles\n",
        "interval = math.ceil(20/10)\n",
        "quartiles = {1:[],2:[],3:[],4:[],5:[],6:[],7:[],8:[],9:[],10:[]}\n",
        "val = 0\n",
        "for k,v in quartiles.items():\n",
        "        quartiles[k] = [val+(interval*int(k-1)),val + interval*int(k)]\n",
        "print(quartiles)"
      ],
      "outputs": [
        {
          "output_type": "stream",
          "name": "stdout",
          "text": [
            "{1: [0, 2], 2: [2, 4], 3: [4, 6], 4: [6, 8], 5: [8, 10], 6: [10, 12], 7: [12, 14], 8: [14, 16], 9: [16, 18], 10: [18, 20]}\n"
          ]
        }
      ],
      "metadata": {}
    },
    {
      "cell_type": "markdown",
      "source": [
        "<h2>Exercise</h2>\n",
        "Creating the boundaries for the deciles consists of dividing the range into<br>\n",
        "10 intervals.  Create a function to calculate the boundaries for deciles of<br>\n",
        "a data set the goes from 100 to 150."
      ],
      "metadata": {
        "id": "eewU4AkjVifE"
      }
    },
    {
      "cell_type": "markdown",
      "source": [
        "<h4>Solution</h4>"
      ],
      "metadata": {
        "id": "S7KLRLMnVifE"
      }
    },
    {
      "cell_type": "code",
      "execution_count": 194,
      "source": [
        "import math\n",
        "#create deciles\n",
        "def deciles(beg, end):\n",
        "    interval = math.ceil((end-beg)/10)\n",
        "    deciles = {1:[],2:[],3:[],4:[],5:[],6:[],7:[],8:[],9:[],10:[]}\n",
        "    val = 0\n",
        "    for k,v in deciles.items():\n",
        "        deciles[k] = [val+(interval*int(k-1)),val + interval*int(k)]\n",
        "    return deciles\n",
        "deciles(100, 150)\n"
      ],
      "outputs": [
        {
          "output_type": "execute_result",
          "data": {
            "text/plain": [
              "{1: [0, 5],\n",
              " 2: [5, 10],\n",
              " 3: [10, 15],\n",
              " 4: [15, 20],\n",
              " 5: [20, 25],\n",
              " 6: [25, 30],\n",
              " 7: [30, 35],\n",
              " 8: [35, 40],\n",
              " 9: [40, 45],\n",
              " 10: [45, 50]}"
            ]
          },
          "metadata": {},
          "execution_count": 194
        }
      ],
      "metadata": {}
    },
    {
      "cell_type": "markdown",
      "source": [
        "<h4>Frequency distribution chart</h4>"
      ],
      "metadata": {
        "id": "hCmMqw1kVifF"
      }
    },
    {
      "cell_type": "code",
      "execution_count": 197,
      "source": [
        "import matplotlib.pyplot as plt\n",
        "import math\n",
        "\n",
        "\n",
        "#create boundaries\n",
        "interval = math.ceil((max(grades)-min(grades))/10)\n",
        "deciles = {1:[],2:[],3:[],4:[],5:[],6:[],7:[],8:[],9:[],10:[]}\n",
        "val = 0\n",
        "min_grade = min(grades)\n",
        "grade_dist = []\n",
        "for k,v in deciles.items():\n",
        "        beg = min_grade+(interval*int(k-1))\n",
        "        end = min_grade + interval*int(k)\n",
        "        deciles[k] = [beg,end]\n",
        "        sum_int = sum([1 for x in grades if x>= beg and x< end])\n",
        "        grade_dist.append(sum_int)\n",
        "print(deciles)\n",
        "print(grade_dist)\n",
        "xAxis = range(1,11)\n",
        "plt.bar(xAxis,grade_dist)\n",
        "plt.title('Frequency distribution')\n",
        "plt.xlabel('exam')\n",
        "plt.ylabel('score')\n",
        "plt.show()"
      ],
      "outputs": [
        {
          "output_type": "error",
          "ename": "ModuleNotFoundError",
          "evalue": "No module named 'matplotlib'",
          "traceback": [
            "\u001b[0;31m---------------------------------------------------------------------------\u001b[0m",
            "\u001b[0;31mModuleNotFoundError\u001b[0m                       Traceback (most recent call last)",
            "\u001b[0;32m/var/folders/pl/clj7x4m153j6y749_p0tpx4m0000gn/T/ipykernel_2485/3739590961.py\u001b[0m in \u001b[0;36m<module>\u001b[0;34m\u001b[0m\n\u001b[0;32m----> 1\u001b[0;31m \u001b[0;32mimport\u001b[0m \u001b[0mmatplotlib\u001b[0m\u001b[0;34m.\u001b[0m\u001b[0mpyplot\u001b[0m \u001b[0;32mas\u001b[0m \u001b[0mplt\u001b[0m\u001b[0;34m\u001b[0m\u001b[0;34m\u001b[0m\u001b[0m\n\u001b[0m\u001b[1;32m      2\u001b[0m \u001b[0;32mimport\u001b[0m \u001b[0mmath\u001b[0m\u001b[0;34m\u001b[0m\u001b[0;34m\u001b[0m\u001b[0m\n\u001b[1;32m      3\u001b[0m \u001b[0;34m\u001b[0m\u001b[0m\n\u001b[1;32m      4\u001b[0m \u001b[0;34m\u001b[0m\u001b[0m\n\u001b[1;32m      5\u001b[0m \u001b[0;31m#create boundaries\u001b[0m\u001b[0;34m\u001b[0m\u001b[0;34m\u001b[0m\u001b[0m\n",
            "\u001b[0;31mModuleNotFoundError\u001b[0m: No module named 'matplotlib'"
          ]
        }
      ],
      "metadata": {
        "id": "dwT02FeNVifF"
      }
    },
    {
      "cell_type": "markdown",
      "source": [
        "<h4>Cumulative Frequency distribution chart</h4>"
      ],
      "metadata": {
        "id": "1rLJJDmvVifF"
      }
    },
    {
      "cell_type": "code",
      "execution_count": null,
      "source": [
        "import matplotlib.pyplot as plt\n",
        "import math\n",
        "\n",
        "grades = [68.0, 90.0, 69.0, 86.0, 78.0, 97.0, 95.0, 83.0, 84.0, 74.0, 84.0, 71.0, 79.0, 82.0, 79.0, 69.0, 99.0, 93.0, \n",
        " 77.0, 77.0, 75.0, 83.0, 86.0, 89.0, 76.0, 88.0, 65.0, 65.0, 78.0, 77.0, 82.0, 97.0, 87.0, 83.0, 67.0, 83.0, \n",
        " 67.0, 77.0, 79.0, 79.0, 68.0, 69.0, 89.0, 79.0, 66.0, 85.0, 93.0, 74.0, 70.0, 83.0, 90.0, 75.0, 94.0, 77.0, \n",
        " 92.0, 84.0, 93.0, 83.0, 79.0, 87.0, 62.0, 85.0, 99.0, 76.0, 96.0, 89.0, 66.0, 85.0, 70.0, 83.0, 77.0, 96.0, \n",
        " 92.0, 76.0, 95.0, 84.0, 74.0, 83.0, 83.0, 89.0, 81.0, 91.0, 83.0, 74.0, 93.0, 73.0, 73.0, 84.0, 84.0, 83.0, \n",
        " 91.0, 68.0, 88.0, 72.0, 84.0, 93.0, 86.0, 83.0, 83.0, 77.0]\n",
        "\n",
        "#create boundaries\n",
        "interval = math.ceil((max(grades)-min(grades))/10)\n",
        "deciles = {1:[],2:[],3:[],4:[],5:[],6:[],7:[],8:[],9:[],10:[]}\n",
        "val = 0\n",
        "min_grade = min(grades)\n",
        "grade_dist = []\n",
        "for k,v in deciles.items():\n",
        "        beg = min_grade+(interval*int(k-1))\n",
        "        end = min_grade + interval*int(k)\n",
        "        deciles[k] = [beg,end]\n",
        "        sum_int = sum([1 for x in grades if x< end])\n",
        "        grade_dist.append(sum_int)\n",
        "print(deciles)\n",
        "print(grade_dist)\n",
        "xAxis = range(1,11)\n",
        "plt.bar(xAxis,grade_dist)\n",
        "plt.title('Frequency distribution')\n",
        "plt.xlabel('exam')\n",
        "plt.ylabel('score')\n",
        "plt.show()"
      ],
      "outputs": [],
      "metadata": {
        "id": "AyOOdQqiVifG"
      }
    },
    {
      "cell_type": "markdown",
      "source": [
        "<h2>Exercise</h2>\n",
        "Suppose we have data like the following:<br>\n",
        "<code>\n",
        "sat_scores = [540, 590, 780, 720, 680, 570, 590, 600, 600, 610]\n",
        "</code>\n",
        "<br>\n",
        "Calculate what percentage of students are above the 50th percentile and what percentage<br>\n",
        "score below the 50th percentile<br>\n",
        "HINT: You need to calculate the median of the data set<br>"
      ],
      "metadata": {
        "id": "NVi4aAQRVifG"
      }
    },
    {
      "cell_type": "code",
      "execution_count": 203,
      "source": [
        "def calc_median(lst):\n",
        "        # finding the median of an odd length list\n",
        "        if len(lst) % 2 == 1: # checking for odd\n",
        "            index = int(len(lst)/2) # index of middle element in odd list\n",
        "            median = lst[index]\n",
        "        else: # getting midpoint of list that is even\n",
        "            indexLeft  = int(len(lst)/2) - 1 \n",
        "            indexRight = indexLeft + 1\n",
        "            median = (lst[indexLeft] + lst[indexRight]) / 2\n",
        "        return median"
      ],
      "outputs": [],
      "metadata": {}
    },
    {
      "cell_type": "code",
      "execution_count": 202,
      "source": [
        "import statistics\n",
        "\n",
        "\n",
        "sat_scores = [540, 590, 780, 720, 680, 570, 590, 600, 600, 610]\n",
        "\n",
        "# percentile = mediam \n",
        "print(statistics.median(sat_scores))\n",
        "print (calc_median(sat_scores))\n",
        "above = [i for i in sat_scores if i>=statistics.median(sat_scores)]\n",
        "under = [i for i in sat_scores if i<=statistics.median(sat_scores)]\n",
        "print (len(above)*100/len(sat_scores), 'above the 50th percentile:', above)\n",
        "print (len(under)*100/len(sat_scores), 'under the 50th percentile:', under)"
      ],
      "outputs": [
        {
          "output_type": "stream",
          "name": "stdout",
          "text": [
            "600.0\n",
            "625.0\n",
            "60.0 above the 50th percentile: [780, 720, 680, 600, 600, 610]\n",
            "60.0 under the 50th percentile: [540, 590, 570, 590, 600, 600]\n"
          ]
        }
      ],
      "metadata": {
        "id": "tuRiJoTSVifG"
      }
    },
    {
      "cell_type": "markdown",
      "source": [
        "<h2>Exercise</h2>\n",
        "Take the grades data and chart the frequency distribution and the cumulative<br>\n",
        "frequency distribution in quartiles"
      ],
      "metadata": {
        "id": "kvGI8zRGVifH"
      }
    },
    {
      "cell_type": "code",
      "execution_count": 153,
      "source": [
        "import matplotlib.pyplot as plt\n",
        "import math\n",
        "grades = [68.0, 90.0, 69.0, 86.0, 78.0, 97.0, 95.0, 83.0, 84.0, 74.0, 84.0, 71.0, 79.0, 82.0, 79.0, 69.0, 99.0, 93.0,\n",
        " 77.0, 77.0, 75.0, 83.0, 86.0, 89.0, 76.0, 88.0, 65.0, 65.0, 78.0, 77.0, 82.0, 97.0, 87.0, 83.0, 67.0, 83.0,\n",
        " 67.0, 77.0, 79.0, 79.0, 68.0, 69.0, 89.0, 79.0, 66.0, 85.0, 93.0, 74.0, 70.0, 83.0, 90.0, 75.0, 94.0, 77.0,\n",
        " 92.0, 84.0, 93.0, 83.0, 79.0, 87.0, 62.0, 85.0, 99.0, 76.0, 96.0, 89.0, 66.0, 85.0, 70.0, 83.0, 77.0, 96.0,\n",
        " 92.0, 76.0, 95.0, 84.0, 74.0, 83.0, 83.0, 89.0, 81.0, 91.0, 83.0, 74.0, 93.0, 73.0, 73.0, 84.0, 84.0, 83.0,\n",
        " 91.0, 68.0, 88.0, 72.0, 84.0, 93.0, 86.0, 83.0, 83.0, 77.0]\n",
        "#create boundaries\n",
        "interval = math.ceil((max(grades)-min(grades))/10)\n",
        "deciles = {1:[],2:[],3:[],4:[],5:[],6:[],7:[],8:[],9:[],10:[]}\n",
        "val = 0\n",
        "min_grade = min(grades)\n",
        "grade_dist = []\n",
        "for k,v in deciles.items():\n",
        "        beg = min_grade+(interval*int(k-1))\n",
        "        end = min_grade + interval*int(k)\n",
        "        deciles[k] = [beg,end]\n",
        "        sum_int = sum([1 for x in grades if x>= beg and x< end])\n",
        "        grade_dist.append(sum_int)\n",
        "print(deciles)\n",
        "print(grade_dist)\n",
        "xAxis = range(1,11)\n",
        "plt.bar(xAxis,grade_dist)\n",
        "plt.title('Frequency distribution')\n",
        "plt.xlabel('exam')\n",
        "plt.ylabel('score')\n",
        "plt.show()"
      ],
      "outputs": [
        {
          "output_type": "error",
          "ename": "ModuleNotFoundError",
          "evalue": "No module named 'matplotlib'",
          "traceback": [
            "\u001b[0;31m---------------------------------------------------------------------------\u001b[0m",
            "\u001b[0;31mModuleNotFoundError\u001b[0m                       Traceback (most recent call last)",
            "\u001b[0;32m/var/folders/pl/clj7x4m153j6y749_p0tpx4m0000gn/T/ipykernel_2485/1373033960.py\u001b[0m in \u001b[0;36m<module>\u001b[0;34m\u001b[0m\n\u001b[0;32m----> 1\u001b[0;31m \u001b[0;32mimport\u001b[0m \u001b[0mmatplotlib\u001b[0m\u001b[0;34m.\u001b[0m\u001b[0mpyplot\u001b[0m \u001b[0;32mas\u001b[0m \u001b[0mplt\u001b[0m\u001b[0;34m\u001b[0m\u001b[0;34m\u001b[0m\u001b[0m\n\u001b[0m\u001b[1;32m      2\u001b[0m \u001b[0;32mimport\u001b[0m \u001b[0mmath\u001b[0m\u001b[0;34m\u001b[0m\u001b[0;34m\u001b[0m\u001b[0m\n\u001b[1;32m      3\u001b[0m grades = [68.0, 90.0, 69.0, 86.0, 78.0, 97.0, 95.0, 83.0, 84.0, 74.0, 84.0, 71.0, 79.0, 82.0, 79.0, 69.0, 99.0, 93.0,\n\u001b[1;32m      4\u001b[0m  \u001b[0;36m77.0\u001b[0m\u001b[0;34m,\u001b[0m \u001b[0;36m77.0\u001b[0m\u001b[0;34m,\u001b[0m \u001b[0;36m75.0\u001b[0m\u001b[0;34m,\u001b[0m \u001b[0;36m83.0\u001b[0m\u001b[0;34m,\u001b[0m \u001b[0;36m86.0\u001b[0m\u001b[0;34m,\u001b[0m \u001b[0;36m89.0\u001b[0m\u001b[0;34m,\u001b[0m \u001b[0;36m76.0\u001b[0m\u001b[0;34m,\u001b[0m \u001b[0;36m88.0\u001b[0m\u001b[0;34m,\u001b[0m \u001b[0;36m65.0\u001b[0m\u001b[0;34m,\u001b[0m \u001b[0;36m65.0\u001b[0m\u001b[0;34m,\u001b[0m \u001b[0;36m78.0\u001b[0m\u001b[0;34m,\u001b[0m \u001b[0;36m77.0\u001b[0m\u001b[0;34m,\u001b[0m \u001b[0;36m82.0\u001b[0m\u001b[0;34m,\u001b[0m \u001b[0;36m97.0\u001b[0m\u001b[0;34m,\u001b[0m \u001b[0;36m87.0\u001b[0m\u001b[0;34m,\u001b[0m \u001b[0;36m83.0\u001b[0m\u001b[0;34m,\u001b[0m \u001b[0;36m67.0\u001b[0m\u001b[0;34m,\u001b[0m \u001b[0;36m83.0\u001b[0m\u001b[0;34m,\u001b[0m\u001b[0;34m\u001b[0m\u001b[0;34m\u001b[0m\u001b[0m\n\u001b[1;32m      5\u001b[0m  \u001b[0;36m67.0\u001b[0m\u001b[0;34m,\u001b[0m \u001b[0;36m77.0\u001b[0m\u001b[0;34m,\u001b[0m \u001b[0;36m79.0\u001b[0m\u001b[0;34m,\u001b[0m \u001b[0;36m79.0\u001b[0m\u001b[0;34m,\u001b[0m \u001b[0;36m68.0\u001b[0m\u001b[0;34m,\u001b[0m \u001b[0;36m69.0\u001b[0m\u001b[0;34m,\u001b[0m \u001b[0;36m89.0\u001b[0m\u001b[0;34m,\u001b[0m \u001b[0;36m79.0\u001b[0m\u001b[0;34m,\u001b[0m \u001b[0;36m66.0\u001b[0m\u001b[0;34m,\u001b[0m \u001b[0;36m85.0\u001b[0m\u001b[0;34m,\u001b[0m \u001b[0;36m93.0\u001b[0m\u001b[0;34m,\u001b[0m \u001b[0;36m74.0\u001b[0m\u001b[0;34m,\u001b[0m \u001b[0;36m70.0\u001b[0m\u001b[0;34m,\u001b[0m \u001b[0;36m83.0\u001b[0m\u001b[0;34m,\u001b[0m \u001b[0;36m90.0\u001b[0m\u001b[0;34m,\u001b[0m \u001b[0;36m75.0\u001b[0m\u001b[0;34m,\u001b[0m \u001b[0;36m94.0\u001b[0m\u001b[0;34m,\u001b[0m \u001b[0;36m77.0\u001b[0m\u001b[0;34m,\u001b[0m\u001b[0;34m\u001b[0m\u001b[0;34m\u001b[0m\u001b[0m\n",
            "\u001b[0;31mModuleNotFoundError\u001b[0m: No module named 'matplotlib'"
          ]
        }
      ],
      "metadata": {
        "id": "004nNXerVifH"
      }
    },
    {
      "cell_type": "markdown",
      "source": [
        "This notebook is part of a course at www.codeimmersives.com called Data Science. If you accessed this notebook outside the course, you can get more information about this course online by clicking here."
      ],
      "metadata": {
        "id": "_vtYGlSEVifH"
      }
    },
    {
      "cell_type": "markdown",
      "source": [
        "<hr>\n",
        "\n",
        "Copyright &copy; 2021  Code Immersives"
      ],
      "metadata": {
        "id": "DgISkQCXVifH"
      }
    }
  ],
  "metadata": {
    "kernelspec": {
      "name": "python3",
      "display_name": "Python 3.9.7 64-bit"
    },
    "language_info": {
      "codemirror_mode": {
        "name": "ipython",
        "version": 3
      },
      "file_extension": ".py",
      "mimetype": "text/x-python",
      "name": "python",
      "nbconvert_exporter": "python",
      "pygments_lexer": "ipython3",
      "version": "3.9.7"
    },
    "colab": {
      "name": "CI Data Science - Lesson 03 - NO ANSWERS (1).ipynb",
      "provenance": [],
      "collapsed_sections": []
    },
    "interpreter": {
      "hash": "aee8b7b246df8f9039afb4144a1f6fd8d2ca17a180786b69acc140d282b71a49"
    }
  },
  "nbformat": 4,
  "nbformat_minor": 2
}