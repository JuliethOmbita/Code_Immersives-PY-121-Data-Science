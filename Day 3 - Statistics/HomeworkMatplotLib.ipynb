{
 "cells": [
  {
   "cell_type": "markdown",
   "source": [
    "<h2>Exercise</h2>\n",
    "Take the grades data and chart the frequency distribution and the cumulative<br>\n",
    "frequency distribution in quartiles"
   ],
   "metadata": {}
  },
  {
   "cell_type": "code",
   "execution_count": 4,
   "source": [
    "grades = [68.0, 90.0, 69.0, 86.0, 78.0, 97.0, 95.0, 83.0, 84.0, 74.0, 84.0, 71.0, 79.0, 82.0, 79.0, 69.0, 99.0, 93.0, \n",
    " 77.0, 77.0, 75.0, 83.0, 86.0, 89.0, 76.0, 88.0, 65.0, 65.0, 78.0, 77.0, 82.0, 97.0, 87.0, 83.0, 67.0, 83.0, \n",
    " 67.0, 77.0, 79.0, 79.0, 68.0, 69.0, 89.0, 79.0, 66.0, 85.0, 93.0, 74.0, 70.0, 83.0, 90.0, 75.0, 94.0, 77.0, \n",
    " 92.0, 84.0, 93.0, 83.0, 79.0, 87.0, 62.0, 85.0, 99.0, 76.0, 96.0, 89.0, 66.0, 85.0, 70.0, 83.0, 77.0, 96.0, \n",
    " 92.0, 76.0, 95.0, 84.0, 74.0, 83.0, 83.0, 89.0, 81.0, 91.0, 83.0, 74.0, 93.0, 73.0, 73.0, 84.0, 84.0, 83.0, \n",
    " 91.0, 68.0, 88.0, 72.0, 84.0, 93.0, 86.0, 83.0, 83.0, 77.0]"
   ],
   "outputs": [],
   "metadata": {}
  },
  {
   "cell_type": "code",
   "execution_count": 5,
   "source": [
    "import matplotlib.pyplot as plt\n",
    "import math\n",
    "\n",
    "\n",
    "#create boundaries\n",
    "interval = math.ceil((max(grades)-min(grades))/4)\n",
    "quartiles = {1:[],2:[],3:[],4:[]}\n",
    "val = 0\n",
    "min_grade = min(grades)\n",
    "grade_dist = []\n",
    "for k,v in quartiles.items():\n",
    "        beg = min_grade + (interval*int(k-1))\n",
    "        end = min_grade + interval*int(k)\n",
    "        quartiles[k] = [beg,end]\n",
    "        sum_int = sum([1 for x in grades if x>= beg and x< end])\n",
    "        grade_dist.append(sum_int)\n",
    "print(quartiles)\n",
    "print(grade_dist)\n",
    "xAxis = range(1,5)\n",
    "plt.bar(xAxis,grade_dist)\n",
    "plt.title('Frequency distribution')\n",
    "plt.xlabel('exam')\n",
    "plt.ylabel('score')\n",
    "plt.show()"
   ],
   "outputs": [
    {
     "output_type": "stream",
     "name": "stdout",
     "text": [
      "{1: [62.0, 72.0], 2: [72.0, 82.0], 3: [82.0, 92.0], 4: [92.0, 102.0]}\n",
      "[16, 28, 40, 16]\n"
     ]
    },
    {
     "output_type": "display_data",
     "data": {
      "image/png": "[encoded data removed]",
      "text/plain": [
       "<Figure size 432x288 with 1 Axes>"
      ]
     },
     "metadata": {
      "needs_background": "light"
     }
    }
   ],
   "metadata": {}
  },
  {
   "cell_type": "code",
   "execution_count": 6,
   "source": [
    "import matplotlib.pyplot as plt\n",
    "import math\n",
    "\n",
    "#create boundaries\n",
    "interval = math.ceil((max(grades)-min(grades))/4)\n",
    "quartiles = {1:[],2:[],3:[],4:[]}\n",
    "val = 0\n",
    "min_grade = min(grades)\n",
    "grade_dist = []\n",
    "for k,v in quartiles.items():\n",
    "        beg = min_grade+(interval*int(k-1))\n",
    "        end = min_grade + interval*int(k)\n",
    "        quartiles[k] = [beg,end]\n",
    "        sum_int = sum([1 for x in grades if x< end])\n",
    "        grade_dist.append(sum_int)\n",
    "print(quartiles)\n",
    "print(grade_dist)\n",
    "xAxis = range(1,5)\n",
    "plt.bar(xAxis,grade_dist)\n",
    "plt.title('Cumulative Frequency distribution')\n",
    "plt.xlabel('exam')\n",
    "plt.ylabel('score')\n",
    "plt.show()"
   ],
   "outputs": [
    {
     "output_type": "stream",
     "name": "stdout",
     "text": [
      "{1: [62.0, 72.0], 2: [72.0, 82.0], 3: [82.0, 92.0], 4: [92.0, 102.0]}\n",
      "[16, 44, 84, 100]\n"
     ]
    },
    {
     "output_type": "display_data",
     "data": {
      "image/png": "[encoded data removed]",
      "text/plain": [
       "<Figure size 432x288 with 1 Axes>"
      ]
     },
     "metadata": {
      "needs_background": "light"
     }
    }
   ],
   "metadata": {}
  }
 ],
 "metadata": {
  "orig_nbformat": 4,
  "language_info": {
   "name": "python",
   "version": "3.9.7",
   "mimetype": "text/x-python",
   "codemirror_mode": {
    "name": "ipython",
    "version": 3
   },
   "pygments_lexer": "ipython3",
   "nbconvert_exporter": "python",
   "file_extension": ".py"
  },
  "kernelspec": {
   "name": "python3",
   "display_name": "Python 3.9.7 64-bit ('venv': venv)"
  },
  "interpreter": {
   "hash": "2b6a48a62f97ea2220556cc5b2fce2dfbb06f7ab5e77c2f5871a237e1217bc60"
  }
 },
 "nbformat": 4,
 "nbformat_minor": 2
}