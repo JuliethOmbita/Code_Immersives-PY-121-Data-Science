{
 "cells": [
  {
   "cell_type": "markdown",
   "source": [
    "Create a program the outputs the first day of the month, the last day of the month,\n",
    "and the number of days in the month as a list\n",
    "Example\n",
    "(1/1/2020,1/31/2020,31 days)\n",
    "(2/1/2020,2/29/2020,29 days)\n",
    "\n",
    "NOTE: Do not import calendar"
   ],
   "metadata": {}
  },
  {
   "cell_type": "code",
   "execution_count": 5,
   "source": [
    "from datetime import timedelta, date\n",
    "\n",
    "def day_month(year):\n",
    "    for i in range (1, 13):\n",
    "        bg_date = date(year, i, 1)\n",
    "        if i == 12:\n",
    "            year += 1\n",
    "            i = 0\n",
    "        last_date = date(year, i+1, 1)\n",
    "        last_date = last_date - timedelta(1)\n",
    "        print (bg_date, last_date, (last_date-bg_date).days + 1)\n",
    "\n",
    "day_month(2020)"
   ],
   "outputs": [
    {
     "output_type": "stream",
     "name": "stdout",
     "text": [
      "2020-01-01 2020-01-31 31\n",
      "2020-02-01 2020-02-29 29\n",
      "2020-03-01 2020-03-31 31\n",
      "2020-04-01 2020-04-30 30\n",
      "2020-05-01 2020-05-31 31\n",
      "2020-06-01 2020-06-30 30\n",
      "2020-07-01 2020-07-31 31\n",
      "2020-08-01 2020-08-31 31\n",
      "2020-09-01 2020-09-30 30\n",
      "2020-10-01 2020-10-31 31\n",
      "2020-11-01 2020-11-30 30\n",
      "2020-12-01 2020-12-31 31\n"
     ]
    }
   ],
   "metadata": {}
  }
 ],
 "metadata": {
  "orig_nbformat": 4,
  "language_info": {
   "name": "python",
   "version": "3.9.7",
   "mimetype": "text/x-python",
   "codemirror_mode": {
    "name": "ipython",
    "version": 3
   },
   "pygments_lexer": "ipython3",
   "nbconvert_exporter": "python",
   "file_extension": ".py"
  },
  "kernelspec": {
   "name": "python3",
   "display_name": "Python 3.9.7 64-bit"
  },
  "interpreter": {
   "hash": "aee8b7b246df8f9039afb4144a1f6fd8d2ca17a180786b69acc140d282b71a49"
  }
 },
 "nbformat": 4,
 "nbformat_minor": 2
}