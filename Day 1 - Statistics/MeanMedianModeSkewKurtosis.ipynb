{
 "cells": [
  {
   "cell_type": "code",
   "execution_count": 10,
   "source": [
    "class BaseStatistics():\n",
    "    def ___init__ (self,lst,x):\n",
    "        self.lst = lst\n",
    "        self.x = x\n",
    "    def calc_mean(lst):\n",
    "        return sum(lst)/len(lst)    \n",
    "    def calc_median(lst):\n",
    "        # finding the median of an odd length list\n",
    "        if len(lst) % 2 == 1: # checking for odd\n",
    "            index = int(len(lst)/2) # index of middle element in odd list\n",
    "            median = lst[index]\n",
    "        else: # getting midpoint of list that is even\n",
    "            indexLeft  = int(len(lst)/2) - 1 \n",
    "            indexRight = indexLeft + 1\n",
    "            median = (lst[indexLeft] + lst[indexRight]) / 2\n",
    "        return median\n",
    "    def calc_mode(lst):\n",
    "        lst.sort()\n",
    "        modes = {}\n",
    "        for i in lst:\n",
    "            if not i in modes:\n",
    "                modes[i] = 0\n",
    "            modes[i] += 1\n",
    "        #sort the dictionary by values\n",
    "        sorted_modes = sorted(modes.items(), key = lambda kv:kv[1], reverse = True)\n",
    "        max_iter = sorted_modes[0][1]\n",
    "        if max_iter > 1:\n",
    "            modes = [sorted_modes[i] for i,val in enumerate(sorted_modes) if sorted_modes[i][1] == max_iter]\n",
    "        return modes\n",
    "    "
   ],
   "outputs": [],
   "metadata": {}
  },
  {
   "cell_type": "code",
   "execution_count": null,
   "source": [
    "    def calc_max(self):\n",
    "        return max(self.ordered)\n",
    "    \n",
    "    def calc_min(self):\n",
    "        return min(self.ordered)\n",
    "    \n",
    "    def calc_range(self):\n",
    "        return self.calc_max() - self.calc_min()"
   ],
   "outputs": [],
   "metadata": {}
  },
  {
   "cell_type": "code",
   "execution_count": 9,
   "source": [
    "def calc_mode(lst):\n",
    "    lst.sort()\n",
    "    modes = {}\n",
    "    for i in lst:\n",
    "        if not i in modes:\n",
    "            modes[i] = 0\n",
    "        modes[i] += 1\n",
    "    #sort the dictionary by values\n",
    "    sorted_modes = sorted(modes.items(), key = lambda kv:kv[1], reverse = True)\n",
    "    max_iter = sorted_modes[0][1]\n",
    "    if max_iter > 1:\n",
    "        modes = [sorted_modes[i] for i,val in enumerate(sorted_modes) if sorted_modes[i][1] == max_iter]\n",
    "    return modes\n",
    "\n",
    "summer_temps = [72,77,79,82,84,77,89]\n",
    "calc_mode(summer_temps)"
   ],
   "outputs": [
    {
     "output_type": "execute_result",
     "data": {
      "text/plain": [
       "[(77, 2)]"
      ]
     },
     "metadata": {},
     "execution_count": 9
    }
   ],
   "metadata": {}
  },
  {
   "cell_type": "code",
   "execution_count": null,
   "source": [
    "def calc_var(lst):\n",
    "    avg = sum(lst)/len(lst)\n",
    "    x = [x - avg for x in lst]\n",
    "    x_square = [y**2 for y in x]\n",
    "    x_sum = sum(x_square)\n",
    "    res = x_sum/len(lst)\n",
    "    return res\n",
    "\n",
    "import math \n",
    "def calc_std(lst):\n",
    "    x = [x - (sum(lst)/len(lst)) for x in lst]\n",
    "    x_square = sum([y**2 for y in x])\n",
    "    # res = (x_square/len(lst))**2\n",
    "    res = math.sqrt((x_square/(len(lst)-1)))\n",
    "    return res"
   ],
   "outputs": [],
   "metadata": {}
  },
  {
   "cell_type": "code",
   "execution_count": null,
   "source": [
    "import statistics\n",
    "stock_price = [23.5, 24.1, 22.7, 24.2, 25.2, 28.4, 27.8, 26.5, 27.5, 28.2]\n",
    "\n",
    "#     sustraction_lst.append(i-sum(lst)/len(lst))\n",
    "def cal_skew(lst):\n",
    "    lst.sort()\n",
    "    skew = sum([((i-(sum(lst)/len(lst)))**3) for i in lst])/len(lst) \n",
    "    return round((skew/(statistics.stdev(lst))**3),2)\n",
    "def cal_Kurtosis(lst):\n",
    "    lst.sort()\n",
    "    kustosis = sum([((i-(sum(lst)/len(lst)))**4) for i in lst])/len(lst) \n",
    "    return round((kustosis/(statistics.stdev(lst))**4),2)\n",
    "def cal_Kurtosis_excess(lst):\n",
    "    lst.sort()\n",
    "    kust = sum([((i-(sum(lst)/len(lst)))**4) for i in lst])/len(lst) \n",
    "    return round(((kust/(statistics.stdev(lst))**4)-3),2)\n",
    "\n",
    "print (cal_skew(stock_price))\n",
    "\n",
    "print (cal_Kurtosis(stock_price))\n",
    "print (cal_Kurtosis_excess(stock_price))"
   ],
   "outputs": [],
   "metadata": {}
  },
  {
   "cell_type": "code",
   "execution_count": null,
   "source": [
    "def calc_covar(lst, lst2):\n",
    "    avg = sum(lst)/len(lst)\n",
    "    avg2 = sum(lst2)/len(lst2)\n",
    "    xi = [x - avg for x in lst]\n",
    "    yi = [y - avg2 for y in lst2]\n",
    "    print (xi, yi)\n",
    "    multi = [yi[i]*xi[i] for i in range(len(xi))]\n",
    "    x_sum = sum(multi)\n",
    "    res = x_sum/(len(lst)-1)\n",
    "    return round(res,2)"
   ],
   "outputs": [],
   "metadata": {}
  }
 ],
 "metadata": {
  "orig_nbformat": 4,
  "language_info": {
   "name": "python",
   "version": "3.9.7",
   "mimetype": "text/x-python",
   "codemirror_mode": {
    "name": "ipython",
    "version": 3
   },
   "pygments_lexer": "ipython3",
   "nbconvert_exporter": "python",
   "file_extension": ".py"
  },
  "kernelspec": {
   "name": "python3",
   "display_name": "Python 3.9.7 64-bit ('venv': venv)"
  },
  "interpreter": {
   "hash": "2b6a48a62f97ea2220556cc5b2fce2dfbb06f7ab5e77c2f5871a237e1217bc60"
  }
 },
 "nbformat": 4,
 "nbformat_minor": 2
}