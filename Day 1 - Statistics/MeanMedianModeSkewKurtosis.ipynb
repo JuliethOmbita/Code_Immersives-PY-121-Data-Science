{
 "cells": [
  {
   "cell_type": "code",
   "execution_count": 10,
   "source": [
    "class BaseStatistics():\n",
    "    def ___init__ (self,lst,x):\n",
    "        self.lst = lst\n",
    "        self.x = x\n",
    "    def calc_mean(lst):\n",
    "        return sum(lst)/len(lst)    \n",
    "    def calc_median(lst):\n",
    "        # finding the median of an odd length list\n",
    "        if len(lst) % 2 == 1: # checking for odd\n",
    "            index = int(len(lst)/2) # index of middle element in odd list\n",
    "            median = lst[index]\n",
    "        else: # getting midpoint of list that is even\n",
    "            indexLeft  = int(len(lst)/2) - 1 \n",
    "            indexRight = indexLeft + 1\n",
    "            median = (lst[indexLeft] + lst[indexRight]) / 2\n",
    "        return median\n",
    "    def calc_mode(lst):\n",
    "        lst.sort()\n",
    "        modes = {}\n",
    "        for i in lst:\n",
    "            if not i in modes:\n",
    "                modes[i] = 0\n",
    "            modes[i] += 1\n",
    "        #sort the dictionary by values\n",
    "        sorted_modes = sorted(modes.items(), key = lambda kv:kv[1], reverse = True)\n",
    "        max_iter = sorted_modes[0][1]\n",
    "        if max_iter > 1:\n",
    "            modes = [sorted_modes[i] for i,val in enumerate(sorted_modes) if sorted_modes[i][1] == max_iter]\n",
    "        return modes\n",
    "    "
   ],
   "outputs": [],
   "metadata": {}
  },
  {
   "cell_type": "code",
   "execution_count": null,
   "source": [
    "    def calc_max(self):\n",
    "        return max(self.ordered)\n",
    "    \n",
    "    def calc_min(self):\n",
    "        return min(self.ordered)\n",
    "    \n",
    "    def calc_range(self):\n",
    "        return self.calc_max() - self.calc_min()"
   ],
   "outputs": [],
   "metadata": {}
  },
  {
   "cell_type": "code",
   "execution_count": 9,
   "source": [
    "def calc_mode(lst):\n",
    "    lst.sort()\n",
    "    modes = {}\n",
    "    for i in lst:\n",
    "        if not i in modes:\n",
    "            modes[i] = 0\n",
    "        modes[i] += 1\n",
    "    #sort the dictionary by values\n",
    "    sorted_modes = sorted(modes.items(), key = lambda kv:kv[1], reverse = True)\n",
    "    max_iter = sorted_modes[0][1]\n",
    "    if max_iter > 1:\n",
    "        modes = [sorted_modes[i] for i,val in enumerate(sorted_modes) if sorted_modes[i][1] == max_iter]\n",
    "    return modes\n",
    "\n",
    "summer_temps = [72,77,79,82,84,77,89]\n",
    "calc_mode(summer_temps)"
   ],
   "outputs": [
    {
     "output_type": "execute_result",
     "data": {
      "text/plain": [
       "[(77, 2)]"
      ]
     },
     "metadata": {},
     "execution_count": 9
    }
   ],
   "metadata": {}
  },
  {
   "cell_type": "code",
   "execution_count": null,
   "source": [
    "import statistics\n",
    "stock_price = [23.5, 24.1, 22.7, 24.2, 25.2, 28.4, 27.8, 26.5, 27.5, 28.2]\n",
    "\n",
    "#     sustraction_lst.append(i-sum(lst)/len(lst))\n",
    "def cal_skew(lst):\n",
    "    lst.sort()\n",
    "    skew = sum([((i-(sum(lst)/len(lst)))**3) for i in lst])/len(lst) \n",
    "    return round((skew/(statistics.stdev(lst))**3),2)\n",
    "def cal_Kurtosis(lst):\n",
    "    lst.sort()\n",
    "    kustosis = sum([((i-(sum(lst)/len(lst)))**4) for i in lst])/len(lst) \n",
    "    return round((kustosis/(statistics.stdev(lst))**4),2)\n",
    "def cal_Kurtosis_excess(lst):\n",
    "    lst.sort()\n",
    "    kust = sum([((i-(sum(lst)/len(lst)))**4) for i in lst])/len(lst) \n",
    "    return round(((kust/(statistics.stdev(lst))**4)-3),2)\n",
    "\n",
    "print (cal_skew(stock_price))\n",
    "\n",
    "print (cal_Kurtosis(stock_price))\n",
    "print (cal_Kurtosis_excess(stock_price))"
   ],
   "outputs": [],
   "metadata": {}
  }
 ],
 "metadata": {
  "orig_nbformat": 4,
  "language_info": {
   "name": "python",
   "version": "3.9.7",
   "mimetype": "text/x-python",
   "codemirror_mode": {
    "name": "ipython",
    "version": 3
   },
   "pygments_lexer": "ipython3",
   "nbconvert_exporter": "python",
   "file_extension": ".py"
  },
  "kernelspec": {
   "name": "python3",
   "display_name": "Python 3.9.7 64-bit"
  },
  "interpreter": {
   "hash": "aee8b7b246df8f9039afb4144a1f6fd8d2ca17a180786b69acc140d282b71a49"
  }
 },
 "nbformat": 4,
 "nbformat_minor": 2
}